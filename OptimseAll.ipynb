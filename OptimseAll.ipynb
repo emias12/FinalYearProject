{
 "cells": [
  {
   "cell_type": "code",
   "execution_count": 1,
   "metadata": {},
   "outputs": [],
   "source": [
    "%run Jansen_And_Rit.py\n",
    "%run OptimiseFunctions.py\n",
    "\n",
    "import pickle\n",
    "from skopt import gp_minimize\n",
    "np.random.seed(123)"
   ]
  },
  {
   "cell_type": "code",
   "execution_count": null,
   "metadata": {},
   "outputs": [],
   "source": [
    "# Original A = 3.25 # excitatory, B = 22.0 # inhibitory, C = 135\n",
    "# B > A. b < a. \n",
    "eeg_res = gp_minimize(find_eeg_loss, [(2, 7), (15, 30), (80, 150)], n_jobs=-1, n_calls=100)\n",
    "\n",
    "with open('eeg_res.pkl', 'wb') as f:\n",
    "    pickle.dump(eeg_res, f)"
   ]
  },
  {
   "cell_type": "code",
   "execution_count": null,
   "metadata": {},
   "outputs": [],
   "source": [
    "bold_res = gp_minimize(find_bold_loss, [(2, 7), (15, 30), (80, 150)], n_jobs=-1, n_calls=100)\n",
    "\n",
    "with open('bold_res.pkl', 'wb') as f:\n",
    "    pickle.dump(bold_res, f)\n",
    "\n",
    "print(get_cached_counts())"
   ]
  }
 ],
 "metadata": {
  "kernelspec": {
   "display_name": "nilearnenv",
   "language": "python",
   "name": "python3"
  },
  "language_info": {
   "codemirror_mode": {
    "name": "ipython",
    "version": 3
   },
   "file_extension": ".py",
   "mimetype": "text/x-python",
   "name": "python",
   "nbconvert_exporter": "python",
   "pygments_lexer": "ipython3",
   "version": "3.9.18"
  }
 },
 "nbformat": 4,
 "nbformat_minor": 2
}
