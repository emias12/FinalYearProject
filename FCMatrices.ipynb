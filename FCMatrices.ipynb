{
 "cells": [
  {
   "cell_type": "code",
   "execution_count": 3,
   "metadata": {},
   "outputs": [],
   "source": [
    "from nilearn import image, connectome, plotting\n",
    "from nilearn.maskers import NiftiLabelsMasker\n",
    "import os\n",
    "import numpy as np\n",
    "import matplotlib.pyplot as plt\n",
    "import pandas as pd\n",
    "\n",
    "Schaefer100Parcels = image.load_img('parcellation/Schaefer2018_100Parcels_7Networks_order_FSLMNI152_2mm (1).nii')\n",
    "\n",
    "nifti_dir = 'nifti_files'"
   ]
  },
  {
   "cell_type": "code",
   "execution_count": null,
   "metadata": {},
   "outputs": [],
   "source": [
    "# Only run if recomputing and saving all FC matrices \n",
    "\n",
    "for filename in os.listdir(nifti_dir):\n",
    "    nifti_file = os.path.join(nifti_dir, filename)\n",
    "\n",
    "    subject_number = filename.split('-')[1].split('_')[0]\n",
    "\n",
    "    # Create masker and extract time series\n",
    "    masker = NiftiLabelsMasker(labels_img=Schaefer100Parcels, standardize='zscore_sample')\n",
    "    time_series = masker.fit_transform(nifti_file)\n",
    "\n",
    "    # Create correlation matrix\n",
    "    correlation_measure = connectome.ConnectivityMeasure(kind='correlation', standardize='zscore_sample')\n",
    "    correlation_matrix = correlation_measure.fit_transform([time_series])[0]\n",
    "\n",
    "    # Save as numpy file\n",
    "    output_filename = os.path.join('fc_matrices/', f'fc_matrix_{subject_number}.npy')\n",
    "    np.save(output_filename, correlation_matrix)\n",
    "\n",
    "    # Plot the FC plots\n",
    "    title = f'Functional Connectivity Matrix for subject {subject_number}'\n",
    "    plot_filename = os.path.join('fc_matrix_plots', f'fc_matrix_plot_{subject_number}.png')\n",
    "    plotting.plot_matrix(correlation_matrix, colorbar=True, figure=(8, 6), title=title, cmap='coolwarm')\n",
    "    plt.savefig(plot_filename) \n",
    "    plt.close() \n",
    "    "
   ]
  },
  {
   "cell_type": "code",
   "execution_count": 13,
   "metadata": {},
   "outputs": [],
   "source": [
    "# Only run if calculating the averaged FC matrix from already computed npy files\n",
    "\n",
    "npy_dir = 'fc_matrices'\n",
    "all_correlation_matrices = []\n",
    "\n",
    "# Load and accumulate correlation matrices from all npy files\n",
    "for filename in os.listdir(npy_dir):\n",
    "    if filename.endswith('.npy'):\n",
    "        file_path = os.path.join(npy_dir, filename)\n",
    "        correlation_matrix = np.load(file_path)\n",
    "        all_correlation_matrices.append(correlation_matrix)\n",
    "\n",
    "# Compute the average FC matrix across all subjects\n",
    "average_correlation_matrix = np.mean(all_correlation_matrices, axis=0)\n",
    "\n",
    "output_filename = os.path.join('fc_matrices/', 'averaged_fc_matrix.npy')\n",
    "np.save(output_filename, average_correlation_matrix)\n",
    "\n",
    "title = 'Averaged Functional Connectivity Matrix'\n",
    "plot_filename = os.path.join('fc_matrix_plots', 'averaged_fc_matrix_plot.png')\n",
    "plotting.plot_matrix(average_correlation_matrix, colorbar=True, figure=(8, 6), title=title, cmap='coolwarm')\n",
    "plt.savefig(plot_filename)\n",
    "plt.close()"
   ]
  },
  {
   "cell_type": "code",
   "execution_count": 8,
   "metadata": {},
   "outputs": [],
   "source": [
    "# Delete fc matrices of subjects with artificact, as was stated in the OpenNeuro dataset webpage\n",
    "\n",
    "subject_data = pd.read_csv('participants.txt', sep='\\t') # tab separated \n",
    "artifact_participants = subject_data[subject_data['ghost_NoGhost'] == 'ghost']['participant_id']\n",
    "\n",
    "artifact_participant_id_list = [pid.split('-')[1] for pid in artifact_participants]\n",
    "fc_matrix_dir = 'fc_matrices'\n",
    "\n",
    "for artifact_id in artifact_participant_id_list:\n",
    "    fc_matrix_file = f'fc_matrix_{artifact_id}.npy'\n",
    "    fc_matrix_path = os.path.join(fc_matrix_dir, fc_matrix_file)\n",
    "    \n",
    "    if os.path.exists(fc_matrix_path):\n",
    "        os.remove(fc_matrix_path)"
   ]
  },
  {
   "cell_type": "code",
   "execution_count": 14,
   "metadata": {},
   "outputs": [],
   "source": [
    "# Get IDs of control subjects and schizophrenia subjects\n",
    "\n",
    "subject_data = pd.read_csv('participants.txt', sep='\\t') # tab separated \n",
    "\n",
    "control_ids = subject_data[subject_data['diagnosis'] == 'CONTROL']['participant_id']\n",
    "schiz_ids = subject_data[subject_data['diagnosis'] == 'SCHZ']['participant_id']\n",
    "\n",
    "control_ids = [pid.split('-')[1] for pid in control_ids]\n",
    "schiz_ids = [pid.split('-')[1] for pid in schiz_ids]"
   ]
  },
  {
   "cell_type": "code",
   "execution_count": null,
   "metadata": {},
   "outputs": [],
   "source": [
    "npy_dir = 'fc_matrices'\n",
    "\n",
    "# load and accumulate FC matrices for a given list of participant IDs\n",
    "def load_fc_matrices(participant_ids, npy_dir):\n",
    "    correlation_matrices = []\n",
    "    for participant_id in participant_ids:\n",
    "        file_path = os.path.join(npy_dir, f'fc_matrix_{participant_id}.npy')\n",
    "        if os.path.exists(file_path):\n",
    "            correlation_matrix = np.load(file_path)\n",
    "            correlation_matrices.append(correlation_matrix)\n",
    "        else:\n",
    "            print(f'File not found: {file_path}')\n",
    "    return correlation_matrices\n",
    "\n",
    "control_correlation_matrices = load_fc_matrices(control_ids, npy_dir) # missing 22 files (I think these were missing files), 108 total \n",
    "schiz_correlation_matrices = load_fc_matrices(schiz_ids, npy_dir) # missing 20 files, 30 total\n",
    "\n",
    "# Compute the average FC matrix for each group\n",
    "average_control_matrix = np.mean(control_correlation_matrices, axis=0)\n",
    "average_schiz_matrix = np.mean(schiz_correlation_matrices, axis=0)\n",
    "\n",
    "np.save(os.path.join(npy_dir, 'average_control_matrix.npy'), average_control_matrix)\n",
    "np.save(os.path.join(npy_dir, 'average_schiz_matrix.npy'), average_schiz_matrix)"
   ]
  },
  {
   "cell_type": "code",
   "execution_count": null,
   "metadata": {},
   "outputs": [],
   "source": [
    "plotting.plot_matrix(average_control_matrix, colorbar=True, figure=(8, 6), title='Averaged FC Matrix - Control')\n",
    "plt.show()\n",
    "plt.close()\n",
    "\n",
    "plotting.plot_matrix(average_schiz_matrix, colorbar=True, figure=(8, 6), title='Averaged FC Matrix - Schizophrenia')\n",
    "plt.show()\n",
    "plt.close()"
   ]
  }
 ],
 "metadata": {
  "kernelspec": {
   "display_name": "newenv",
   "language": "python",
   "name": "newenv"
  },
  "language_info": {
   "codemirror_mode": {
    "name": "ipython",
    "version": 3
   },
   "file_extension": ".py",
   "mimetype": "text/x-python",
   "name": "python",
   "nbconvert_exporter": "python",
   "pygments_lexer": "ipython3",
   "version": "3.11.7"
  }
 },
 "nbformat": 4,
 "nbformat_minor": 2
}
