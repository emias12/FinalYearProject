{
 "cells": [
  {
   "cell_type": "code",
   "execution_count": 2,
   "metadata": {},
   "outputs": [],
   "source": [
    "%run Jansen_And_Rit.py\n",
    "# %run BOLD_Model.py\n",
    "%run OptimiseFunctions.py\n",
    "\n",
    "import numpy as np\n",
    "import pickle\n",
    "from skopt import gp_minimize\n",
    "from skopt.space import Integer, Real"
   ]
  },
  {
   "cell_type": "code",
   "execution_count": 2,
   "metadata": {},
   "outputs": [],
   "source": [
    "# Original A = 3.25 # excitatory, B = 22.0 # inhibitory, C = 135\n",
    "# B > A. b < a. \n",
    "# b = 50, ad = 50, a = 100\n",
    "# r_0, r_1, r_2 = 0.56\n",
    "# mean_firing_threshold = 6\n",
    "# max_firing_rate = 5\n",
    "\n",
    "# A, B, C, a, ad, b, r_0, r_1, r_2, alpha, beta\n",
    "\n",
    "# Alpha and beta \n",
    "\n",
    "# same sweep as https://doi.org/10.1371/journal.pcbi.1008737 - α 2 [0, 1], β 2 [0, 0.5] and r0 2 [0, 1].\n",
    "\n",
    "# search_space = [\n",
    "#     Integer(2, 15, name=\"A\"),   \n",
    "#     Integer(15, 45, name=\"B\"),  \n",
    "#     Integer(50, 170, name=\"C\"), \n",
    "#     Integer(80, 160, name=\"a\"),  \n",
    "#     Integer(5, 80, name=\"ad\"),   \n",
    "#     Integer(5, 80, name=\"b\"), \n",
    "#     Real(0.0, 1.0, name=\"r_0\"), \n",
    "#     Real(0.0, 1.0, name=\"r_1\"), \n",
    "#     Real(0.0, 1.0, name=\"r_2\"), \n",
    "#     Real(0.0, 1.0, name=\"alpha\"), \n",
    "#     Real(0.0, 0.5, name=\"beta\") \n",
    "# ]\n",
    "\n",
    "\n",
    "search_space = [\n",
    "    Integer(1, 10, name=\"A\"),   \n",
    "    Integer(10, 40, name=\"B\"),  \n",
    "    Integer(90, 200, name=\"C\"), \n",
    "    Integer(50, 150, name=\"a\"),  \n",
    "    Integer(10, 75, name=\"ad\"),   \n",
    "    Integer(10, 50, name=\"b\"), \n",
    "    Real(0.0, 1.0, name=\"r_0\"), \n",
    "    Real(0.0, 1.0, name=\"r_1\"), \n",
    "    Real(0.0, 1.0, name=\"r_2\"), \n",
    "    Real(0.0, 1.0, name=\"alpha\"), \n",
    "    Real(0.0, 0.5, name=\"beta\") \n",
    "]\n"
   ]
  },
  {
   "cell_type": "markdown",
   "metadata": {},
   "source": [
    "########################################################################\n"
   ]
  },
  {
   "cell_type": "code",
   "execution_count": 14,
   "metadata": {},
   "outputs": [
    {
     "name": "stdout",
     "output_type": "stream",
     "text": [
      "6 35 184 135 51 25 0.29753460654447234 0.056712977317443194 0.27265629458011326 0.47766511732135 0.4060843643877467\n",
      "Creating RawArray with float64 data, n_channels=62, n_times=2000\n",
      "    Range : 0 ... 1999 =      0.000 ...     1.999 secs\n",
      "Ready.\n",
      "Effective window size : 2.000 (s)\n",
      "5 22 182 84 52 25 0.9571551589530466 0.14035078041264518 0.8700872583584366 0.4736080452737106 0.4004553759898222\n",
      "Creating RawArray with float64 data, n_channels=62, n_times=2000\n",
      "    Range : 0 ... 1999 =      0.000 ...     1.999 secs\n",
      "Ready.\n",
      "Effective window size : 2.000 (s)\n",
      "6 30 169 108 45 40 0.10590760718779216 0.47360041934665753 0.18633234332676 0.7369181771289582 0.10827517721218596\n"
     ]
    },
    {
     "ename": "KeyboardInterrupt",
     "evalue": "",
     "output_type": "error",
     "traceback": [
      "\u001b[1;31m---------------------------------------------------------------------------\u001b[0m",
      "\u001b[1;31mKeyboardInterrupt\u001b[0m                         Traceback (most recent call last)",
      "Cell \u001b[1;32mIn[14], line 15\u001b[0m\n\u001b[0;32m     11\u001b[0m     \u001b[38;5;28;01mreturn\u001b[39;00m [minimizer(find_eeg_loss, search_space, n_calls\u001b[38;5;241m=\u001b[39mn_calls, random_state\u001b[38;5;241m=\u001b[39mn)\n\u001b[0;32m     12\u001b[0m             \u001b[38;5;28;01mfor\u001b[39;00m n \u001b[38;5;129;01min\u001b[39;00m \u001b[38;5;28mrange\u001b[39m(n_iter)]\n\u001b[0;32m     14\u001b[0m \u001b[38;5;66;03m# Random search\u001b[39;00m\n\u001b[1;32m---> 15\u001b[0m dummy_res \u001b[38;5;241m=\u001b[39m \u001b[43mrun\u001b[49m\u001b[43m(\u001b[49m\u001b[43mdummy_minimize\u001b[49m\u001b[43m)\u001b[49m\n\u001b[0;32m     17\u001b[0m \u001b[38;5;66;03m# Gaussian processes\u001b[39;00m\n\u001b[0;32m     18\u001b[0m gp_res \u001b[38;5;241m=\u001b[39m run(gp_minimize)\n",
      "Cell \u001b[1;32mIn[14], line 11\u001b[0m, in \u001b[0;36mrun\u001b[1;34m(minimizer, n_iter)\u001b[0m\n\u001b[0;32m     10\u001b[0m \u001b[38;5;28;01mdef\u001b[39;00m \u001b[38;5;21mrun\u001b[39m(minimizer, n_iter\u001b[38;5;241m=\u001b[39m\u001b[38;5;241m2\u001b[39m):\n\u001b[1;32m---> 11\u001b[0m     \u001b[38;5;28;01mreturn\u001b[39;00m [minimizer(find_eeg_loss, search_space, n_calls\u001b[38;5;241m=\u001b[39mn_calls, random_state\u001b[38;5;241m=\u001b[39mn)\n\u001b[0;32m     12\u001b[0m             \u001b[38;5;28;01mfor\u001b[39;00m n \u001b[38;5;129;01min\u001b[39;00m \u001b[38;5;28mrange\u001b[39m(n_iter)]\n",
      "Cell \u001b[1;32mIn[14], line 11\u001b[0m, in \u001b[0;36m<listcomp>\u001b[1;34m(.0)\u001b[0m\n\u001b[0;32m     10\u001b[0m \u001b[38;5;28;01mdef\u001b[39;00m \u001b[38;5;21mrun\u001b[39m(minimizer, n_iter\u001b[38;5;241m=\u001b[39m\u001b[38;5;241m2\u001b[39m):\n\u001b[1;32m---> 11\u001b[0m     \u001b[38;5;28;01mreturn\u001b[39;00m [\u001b[43mminimizer\u001b[49m\u001b[43m(\u001b[49m\u001b[43mfind_eeg_loss\u001b[49m\u001b[43m,\u001b[49m\u001b[43m \u001b[49m\u001b[43msearch_space\u001b[49m\u001b[43m,\u001b[49m\u001b[43m \u001b[49m\u001b[43mn_calls\u001b[49m\u001b[38;5;241;43m=\u001b[39;49m\u001b[43mn_calls\u001b[49m\u001b[43m,\u001b[49m\u001b[43m \u001b[49m\u001b[43mrandom_state\u001b[49m\u001b[38;5;241;43m=\u001b[39;49m\u001b[43mn\u001b[49m\u001b[43m)\u001b[49m\n\u001b[0;32m     12\u001b[0m             \u001b[38;5;28;01mfor\u001b[39;00m n \u001b[38;5;129;01min\u001b[39;00m \u001b[38;5;28mrange\u001b[39m(n_iter)]\n",
      "File \u001b[1;32mc:\\Users\\stapl\\anaconda3\\envs\\nilearnenv\\lib\\site-packages\\skopt\\optimizer\\dummy.py:128\u001b[0m, in \u001b[0;36mdummy_minimize\u001b[1;34m(func, dimensions, n_calls, initial_point_generator, x0, y0, random_state, verbose, callback, model_queue_size, init_point_gen_kwargs, space_constraint)\u001b[0m\n\u001b[0;32m    125\u001b[0m \u001b[38;5;28;01melse\u001b[39;00m:\n\u001b[0;32m    126\u001b[0m     n_initial_points \u001b[38;5;241m=\u001b[39m n_calls\n\u001b[1;32m--> 128\u001b[0m \u001b[38;5;28;01mreturn\u001b[39;00m \u001b[43mbase_minimize\u001b[49m\u001b[43m(\u001b[49m\n\u001b[0;32m    129\u001b[0m \u001b[43m    \u001b[49m\u001b[43mfunc\u001b[49m\u001b[43m,\u001b[49m\n\u001b[0;32m    130\u001b[0m \u001b[43m    \u001b[49m\u001b[43mdimensions\u001b[49m\u001b[43m,\u001b[49m\n\u001b[0;32m    131\u001b[0m \u001b[43m    \u001b[49m\u001b[43mbase_estimator\u001b[49m\u001b[38;5;241;43m=\u001b[39;49m\u001b[38;5;124;43m\"\u001b[39;49m\u001b[38;5;124;43mdummy\u001b[39;49m\u001b[38;5;124;43m\"\u001b[39;49m\u001b[43m,\u001b[49m\n\u001b[0;32m    132\u001b[0m \u001b[43m    \u001b[49m\u001b[38;5;66;43;03m# explicitly set optimizer to sampling as \"dummy\"\u001b[39;49;00m\n\u001b[0;32m    133\u001b[0m \u001b[43m    \u001b[49m\u001b[38;5;66;43;03m# minimizer does not provide gradients.\u001b[39;49;00m\n\u001b[0;32m    134\u001b[0m \u001b[43m    \u001b[49m\u001b[43macq_optimizer\u001b[49m\u001b[38;5;241;43m=\u001b[39;49m\u001b[38;5;124;43m\"\u001b[39;49m\u001b[38;5;124;43msampling\u001b[39;49m\u001b[38;5;124;43m\"\u001b[39;49m\u001b[43m,\u001b[49m\n\u001b[0;32m    135\u001b[0m \u001b[43m    \u001b[49m\u001b[43mn_calls\u001b[49m\u001b[38;5;241;43m=\u001b[39;49m\u001b[43mn_calls\u001b[49m\u001b[43m,\u001b[49m\n\u001b[0;32m    136\u001b[0m \u001b[43m    \u001b[49m\u001b[43mn_initial_points\u001b[49m\u001b[38;5;241;43m=\u001b[39;49m\u001b[43mn_initial_points\u001b[49m\u001b[43m,\u001b[49m\n\u001b[0;32m    137\u001b[0m \u001b[43m    \u001b[49m\u001b[43minitial_point_generator\u001b[49m\u001b[38;5;241;43m=\u001b[39;49m\u001b[43minitial_point_generator\u001b[49m\u001b[43m,\u001b[49m\n\u001b[0;32m    138\u001b[0m \u001b[43m    \u001b[49m\u001b[43mx0\u001b[49m\u001b[38;5;241;43m=\u001b[39;49m\u001b[43mx0\u001b[49m\u001b[43m,\u001b[49m\n\u001b[0;32m    139\u001b[0m \u001b[43m    \u001b[49m\u001b[43my0\u001b[49m\u001b[38;5;241;43m=\u001b[39;49m\u001b[43my0\u001b[49m\u001b[43m,\u001b[49m\n\u001b[0;32m    140\u001b[0m \u001b[43m    \u001b[49m\u001b[43mrandom_state\u001b[49m\u001b[38;5;241;43m=\u001b[39;49m\u001b[43mrandom_state\u001b[49m\u001b[43m,\u001b[49m\n\u001b[0;32m    141\u001b[0m \u001b[43m    \u001b[49m\u001b[43mverbose\u001b[49m\u001b[38;5;241;43m=\u001b[39;49m\u001b[43mverbose\u001b[49m\u001b[43m,\u001b[49m\n\u001b[0;32m    142\u001b[0m \u001b[43m    \u001b[49m\u001b[43mspace_constraint\u001b[49m\u001b[38;5;241;43m=\u001b[39;49m\u001b[43mspace_constraint\u001b[49m\u001b[43m,\u001b[49m\n\u001b[0;32m    143\u001b[0m \u001b[43m    \u001b[49m\u001b[43mcallback\u001b[49m\u001b[38;5;241;43m=\u001b[39;49m\u001b[43mcallback\u001b[49m\u001b[43m,\u001b[49m\n\u001b[0;32m    144\u001b[0m \u001b[43m    \u001b[49m\u001b[43mmodel_queue_size\u001b[49m\u001b[38;5;241;43m=\u001b[39;49m\u001b[43mmodel_queue_size\u001b[49m\u001b[43m,\u001b[49m\n\u001b[0;32m    145\u001b[0m \u001b[43m\u001b[49m\u001b[43m)\u001b[49m\n",
      "File \u001b[1;32mc:\\Users\\stapl\\anaconda3\\envs\\nilearnenv\\lib\\site-packages\\skopt\\optimizer\\base.py:332\u001b[0m, in \u001b[0;36mbase_minimize\u001b[1;34m(func, dimensions, base_estimator, n_calls, n_random_starts, n_initial_points, initial_point_generator, acq_func, acq_optimizer, x0, y0, random_state, verbose, callback, n_points, n_restarts_optimizer, xi, kappa, n_jobs, model_queue_size, space_constraint)\u001b[0m\n\u001b[0;32m    330\u001b[0m \u001b[38;5;28;01mfor\u001b[39;00m _ \u001b[38;5;129;01min\u001b[39;00m \u001b[38;5;28mrange\u001b[39m(n_calls):\n\u001b[0;32m    331\u001b[0m     next_x \u001b[38;5;241m=\u001b[39m optimizer\u001b[38;5;241m.\u001b[39mask()\n\u001b[1;32m--> 332\u001b[0m     next_y \u001b[38;5;241m=\u001b[39m \u001b[43mfunc\u001b[49m\u001b[43m(\u001b[49m\u001b[43mnext_x\u001b[49m\u001b[43m)\u001b[49m\n\u001b[0;32m    333\u001b[0m     result \u001b[38;5;241m=\u001b[39m optimizer\u001b[38;5;241m.\u001b[39mtell(next_x, next_y)\n\u001b[0;32m    334\u001b[0m     result\u001b[38;5;241m.\u001b[39mspecs \u001b[38;5;241m=\u001b[39m specs\n",
      "File \u001b[1;32m~\\Documents\\CDocuments\\FinalYearProject\\Model\\OptimiseFunctions.py:13\u001b[0m, in \u001b[0;36mfind_eeg_loss\u001b[1;34m(x)\u001b[0m\n\u001b[0;32m     10\u001b[0m \u001b[38;5;28mprint\u001b[39m(x[\u001b[38;5;241m0\u001b[39m], x[\u001b[38;5;241m1\u001b[39m], x[\u001b[38;5;241m2\u001b[39m], x[\u001b[38;5;241m3\u001b[39m], x[\u001b[38;5;241m4\u001b[39m], x[\u001b[38;5;241m5\u001b[39m], x[\u001b[38;5;241m6\u001b[39m], x[\u001b[38;5;241m7\u001b[39m], x[\u001b[38;5;241m8\u001b[39m], x[\u001b[38;5;241m9\u001b[39m], x[\u001b[38;5;241m10\u001b[39m]) \u001b[38;5;66;03m# A, B, C, a, ad, b, r_0, r_1, r_2, alpha, beta\u001b[39;00m\n\u001b[0;32m     12\u001b[0m \u001b[38;5;66;03m# Running cached version, so x1 x2 x3 saved to be used in optimise BOLD if same paramters input\u001b[39;00m\n\u001b[1;32m---> 13\u001b[0m x1, x2, x3, V_T_sim \u001b[38;5;241m=\u001b[39m \u001b[43mJR\u001b[49m\u001b[38;5;241;43m.\u001b[39;49m\u001b[43mrun_jansen_and_rit_with_caching\u001b[49m\u001b[43m(\u001b[49m\u001b[43mx\u001b[49m\u001b[43m[\u001b[49m\u001b[38;5;241;43m0\u001b[39;49m\u001b[43m]\u001b[49m\u001b[43m,\u001b[49m\u001b[43m \u001b[49m\u001b[43mx\u001b[49m\u001b[43m[\u001b[49m\u001b[38;5;241;43m1\u001b[39;49m\u001b[43m]\u001b[49m\u001b[43m,\u001b[49m\u001b[43m \u001b[49m\u001b[43mx\u001b[49m\u001b[43m[\u001b[49m\u001b[38;5;241;43m2\u001b[39;49m\u001b[43m]\u001b[49m\u001b[43m,\u001b[49m\u001b[43m \u001b[49m\u001b[43mx\u001b[49m\u001b[43m[\u001b[49m\u001b[38;5;241;43m3\u001b[39;49m\u001b[43m]\u001b[49m\u001b[43m,\u001b[49m\u001b[43m \u001b[49m\u001b[43mx\u001b[49m\u001b[43m[\u001b[49m\u001b[38;5;241;43m4\u001b[39;49m\u001b[43m]\u001b[49m\u001b[43m,\u001b[49m\u001b[43m \u001b[49m\u001b[43mx\u001b[49m\u001b[43m[\u001b[49m\u001b[38;5;241;43m5\u001b[39;49m\u001b[43m]\u001b[49m\u001b[43m,\u001b[49m\u001b[43m \u001b[49m\u001b[43mx\u001b[49m\u001b[43m[\u001b[49m\u001b[38;5;241;43m6\u001b[39;49m\u001b[43m]\u001b[49m\u001b[43m,\u001b[49m\u001b[43m \u001b[49m\u001b[43mx\u001b[49m\u001b[43m[\u001b[49m\u001b[38;5;241;43m7\u001b[39;49m\u001b[43m]\u001b[49m\u001b[43m,\u001b[49m\u001b[43m \u001b[49m\u001b[43mx\u001b[49m\u001b[43m[\u001b[49m\u001b[38;5;241;43m8\u001b[39;49m\u001b[43m]\u001b[49m\u001b[43m,\u001b[49m\u001b[43m \u001b[49m\u001b[43mx\u001b[49m\u001b[43m[\u001b[49m\u001b[38;5;241;43m9\u001b[39;49m\u001b[43m]\u001b[49m\u001b[43m,\u001b[49m\u001b[43m \u001b[49m\u001b[43mx\u001b[49m\u001b[43m[\u001b[49m\u001b[38;5;241;43m10\u001b[39;49m\u001b[43m]\u001b[49m\u001b[43m)\u001b[49m\n\u001b[0;32m     15\u001b[0m \u001b[38;5;66;03m# Change this depending on what dataset optimising for\u001b[39;00m\n\u001b[0;32m     17\u001b[0m emp_spec \u001b[38;5;241m=\u001b[39m np\u001b[38;5;241m.\u001b[39mload(\u001b[38;5;124m'\u001b[39m\u001b[38;5;124memp_spec_schiz.npy\u001b[39m\u001b[38;5;124m'\u001b[39m, allow_pickle\u001b[38;5;241m=\u001b[39m\u001b[38;5;28;01mTrue\u001b[39;00m)\n",
      "File \u001b[1;32m~\\Documents\\CDocuments\\FinalYearProject\\Model\\Jansen_And_Rit.py:235\u001b[0m, in \u001b[0;36mrun_jansen_and_rit_with_caching\u001b[1;34m(A_inp, B_inp, C_inp, a_inp, ad_inp, b_inp, r_0_inp, r_1_inp, r_2_inp, alpha_inp, beta_inp)\u001b[0m\n\u001b[0;32m    234\u001b[0m \u001b[38;5;28;01mdef\u001b[39;00m \u001b[38;5;21mrun_jansen_and_rit_with_caching\u001b[39m(A_inp, B_inp, C_inp, a_inp, ad_inp, b_inp, r_0_inp, r_1_inp, r_2_inp, alpha_inp, beta_inp):\n\u001b[1;32m--> 235\u001b[0m     x1, x2, x3, V_T_sim \u001b[38;5;241m=\u001b[39m \u001b[43mrun_jansen_and_rit\u001b[49m\u001b[43m(\u001b[49m\u001b[43mA_inp\u001b[49m\u001b[43m,\u001b[49m\u001b[43m \u001b[49m\u001b[43mB_inp\u001b[49m\u001b[43m,\u001b[49m\u001b[43m \u001b[49m\u001b[43mC_inp\u001b[49m\u001b[43m,\u001b[49m\u001b[43m \u001b[49m\u001b[43ma_inp\u001b[49m\u001b[43m,\u001b[49m\u001b[43m \u001b[49m\u001b[43mad_inp\u001b[49m\u001b[43m,\u001b[49m\u001b[43m \u001b[49m\u001b[43mb_inp\u001b[49m\u001b[43m,\u001b[49m\u001b[43m \u001b[49m\u001b[43mr_0_inp\u001b[49m\u001b[43m,\u001b[49m\u001b[43m \u001b[49m\u001b[43mr_1_inp\u001b[49m\u001b[43m,\u001b[49m\u001b[43m \u001b[49m\u001b[43mr_2_inp\u001b[49m\u001b[43m,\u001b[49m\u001b[43m \u001b[49m\u001b[43malpha_inp\u001b[49m\u001b[43m,\u001b[49m\u001b[43m \u001b[49m\u001b[43mbeta_inp\u001b[49m\u001b[43m)\u001b[49m\n\u001b[0;32m    236\u001b[0m     cache_result([A_inp, B_inp, C_inp, a_inp, ad_inp, b_inp, r_0_inp, r_1_inp, r_2_inp, alpha_inp, beta_inp], [x1, x2, x3])\n\u001b[0;32m    237\u001b[0m     \u001b[38;5;28;01mreturn\u001b[39;00m (x1, x2, x3, V_T_sim)\n",
      "File \u001b[1;32m~\\Documents\\CDocuments\\FinalYearProject\\Model\\Jansen_And_Rit.py:203\u001b[0m, in \u001b[0;36mrun_jansen_and_rit\u001b[1;34m(A_inp, B_inp, C_inp, a_inp, ad_inp, b_inp, r_0_inp, r_1_inp, r_2_inp, alpha_inp, beta_inp)\u001b[0m\n\u001b[0;32m    201\u001b[0m \u001b[38;5;66;03m# Run simulation using Euler method\u001b[39;00m\n\u001b[0;32m    202\u001b[0m \u001b[38;5;28;01mfor\u001b[39;00m i \u001b[38;5;129;01min\u001b[39;00m \u001b[38;5;28mrange\u001b[39m(\u001b[38;5;241m1\u001b[39m, total_sims):\n\u001b[1;32m--> 203\u001b[0m     y_temp \u001b[38;5;241m+\u001b[39m\u001b[38;5;241m=\u001b[39m dt \u001b[38;5;241m*\u001b[39m np\u001b[38;5;241m.\u001b[39marray(\u001b[43msystem_of_equations\u001b[49m\u001b[43m(\u001b[49m\u001b[43my_temp\u001b[49m\u001b[43m)\u001b[49m)\n\u001b[0;32m    204\u001b[0m     \u001b[38;5;28;01mif\u001b[39;00m i \u001b[38;5;241m%\u001b[39m downsample_eeg \u001b[38;5;241m==\u001b[39m \u001b[38;5;241m0\u001b[39m:\n\u001b[0;32m    205\u001b[0m         sol[\u001b[38;5;28mint\u001b[39m(i\u001b[38;5;241m/\u001b[39mdownsample_eeg) \u001b[38;5;241m-\u001b[39m \u001b[38;5;241m1\u001b[39m] \u001b[38;5;241m=\u001b[39m np\u001b[38;5;241m.\u001b[39mcopy(y_temp)\n",
      "File \u001b[1;32m~\\Documents\\CDocuments\\FinalYearProject\\Model\\Jansen_And_Rit.py:93\u001b[0m, in \u001b[0;36msystem_of_equations\u001b[1;34m(x)\u001b[0m\n\u001b[0;32m     91\u001b[0m dy2dt \u001b[38;5;241m=\u001b[39m B \u001b[38;5;241m*\u001b[39m b \u001b[38;5;241m*\u001b[39m sigmoid(C3 \u001b[38;5;241m*\u001b[39m x0, r_2) \u001b[38;5;241m-\u001b[39m \u001b[38;5;241m2\u001b[39m \u001b[38;5;241m*\u001b[39m b \u001b[38;5;241m*\u001b[39m y2 \u001b[38;5;241m-\u001b[39m b\u001b[38;5;241m*\u001b[39m\u001b[38;5;241m*\u001b[39m\u001b[38;5;241m2\u001b[39m \u001b[38;5;241m*\u001b[39m x2\n\u001b[0;32m     92\u001b[0m dx3dt \u001b[38;5;241m=\u001b[39m y3\n\u001b[1;32m---> 93\u001b[0m dy3dt \u001b[38;5;241m=\u001b[39m A \u001b[38;5;241m*\u001b[39m ad \u001b[38;5;241m*\u001b[39m (sigmoid(C2 \u001b[38;5;241m*\u001b[39m x1 \u001b[38;5;241m-\u001b[39m C4 \u001b[38;5;241m*\u001b[39m x2 \u001b[38;5;241m+\u001b[39m C \u001b[38;5;241m*\u001b[39m alpha \u001b[38;5;241m*\u001b[39m \u001b[43mcalculate_zi\u001b[49m\u001b[43m(\u001b[49m\u001b[43mx3\u001b[49m\u001b[43m)\u001b[49m, r_0)) \u001b[38;5;241m-\u001b[39m \u001b[38;5;241m2\u001b[39m \u001b[38;5;241m*\u001b[39m ad \u001b[38;5;241m*\u001b[39m y3 \u001b[38;5;241m-\u001b[39m ad\u001b[38;5;241m*\u001b[39m\u001b[38;5;241m*\u001b[39m\u001b[38;5;241m2\u001b[39m \u001b[38;5;241m*\u001b[39m x3\n\u001b[0;32m     94\u001b[0m \u001b[38;5;28;01mreturn\u001b[39;00m [dx0dt, dy0dt, dx1dt, dy1dt, dx2dt, dy2dt, dx3dt, dy3dt]\n",
      "File \u001b[1;32m~\\Documents\\CDocuments\\FinalYearProject\\Model\\Jansen_And_Rit.py:75\u001b[0m, in \u001b[0;36mcalculate_zi\u001b[1;34m(x3)\u001b[0m\n\u001b[0;32m     74\u001b[0m \u001b[38;5;28;01mdef\u001b[39;00m \u001b[38;5;21mcalculate_zi\u001b[39m(x3):\n\u001b[1;32m---> 75\u001b[0m     \u001b[38;5;28;01mreturn\u001b[39;00m \u001b[43mnp\u001b[49m\u001b[38;5;241;43m.\u001b[39;49m\u001b[43mdot\u001b[49m\u001b[43m(\u001b[49m\u001b[43mSC\u001b[49m\u001b[43m,\u001b[49m\u001b[43m \u001b[49m\u001b[43mx3\u001b[49m\u001b[43m)\u001b[49m\n",
      "File \u001b[1;32m<__array_function__ internals>:180\u001b[0m, in \u001b[0;36mdot\u001b[1;34m(*args, **kwargs)\u001b[0m\n",
      "\u001b[1;31mKeyboardInterrupt\u001b[0m: "
     ]
    }
   ],
   "source": [
    "from skopt import gp_minimize, forest_minimize, dummy_minimize, gbrt_minimize\n",
    "from functools import partial\n",
    "from skopt.plots import plot_convergence\n",
    "\n",
    "n_calls = 120\n",
    "\n",
    "# We will evaluate each model several times using a different seed for the random number generator. \n",
    "# Then compare the average performance of these models. This makes the comparison more robust against models that get “lucky”.\n",
    "\n",
    "def run(minimizer, n_iter=2):\n",
    "    return [minimizer(find_eeg_loss, search_space, n_calls=n_calls, random_state=n)\n",
    "            for n in range(n_iter)]\n",
    "\n",
    "# Random search\n",
    "dummy_res = run(dummy_minimize)\n",
    "\n",
    "# Gaussian processes\n",
    "gp_res = run(gp_minimize)\n",
    "\n",
    "# Random forest\n",
    "rf_res = run(partial(forest_minimize, base_estimator=\"RF\"))\n",
    "\n",
    "# Extra trees\n",
    "et_res = run(partial(forest_minimize, base_estimator=\"ET\"))\n",
    "\n",
    "# Gradient Boosted Trees\n",
    "grbt_res = run(gbrt_minimize)\n",
    "\n",
    "plot = plot_convergence((\"dummy_minimize\", dummy_res),\n",
    "                        (\"gp_minimize\", gp_res),\n",
    "                        (\"forest_minimize('rf')\", rf_res),\n",
    "                        (\"forest_minimize('et)\", et_res),\n",
    "                        (\"gbrt_minimize\", grbt_res),\n",
    "                        title=\"Comparison of optimization techniques\")\n",
    "\n",
    "plot.legend(loc=\"best\", prop={'size': 6}, numpoints=1)"
   ]
  }
 ],
 "metadata": {
  "kernelspec": {
   "display_name": "nilearnenv",
   "language": "python",
   "name": "python3"
  },
  "language_info": {
   "codemirror_mode": {
    "name": "ipython",
    "version": 3
   },
   "file_extension": ".py",
   "mimetype": "text/x-python",
   "name": "python",
   "nbconvert_exporter": "python",
   "pygments_lexer": "ipython3",
   "version": "3.9.18"
  }
 },
 "nbformat": 4,
 "nbformat_minor": 2
}
