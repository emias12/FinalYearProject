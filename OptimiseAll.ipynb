{
 "cells": [
  {
   "cell_type": "code",
   "execution_count": 1,
   "metadata": {},
   "outputs": [],
   "source": [
    "%run Jansen_And_Rit.py\n",
    "%run OptimiseFunctions.py\n",
    "\n",
    "import numpy as np\n",
    "import pickle\n",
    "from skopt import gp_minimize, gbrt_minimize\n",
    "from skopt.space import Integer, Real\n",
    "from skopt import gp_minimize, forest_minimize, dummy_minimize, gbrt_minimize\n",
    "from functools import partial\n",
    "from skopt.plots import plot_convergence, plot_objective"
   ]
  },
  {
   "cell_type": "code",
   "execution_count": 3,
   "metadata": {},
   "outputs": [],
   "source": [
    "# Original A = 3.25 # excitatory, B = 22.0 # inhibitory, C = 135\n",
    "# B > A. b < a. \n",
    "# b = 50, ad = 50, a = 100\n",
    "# r_0, r_1, r_2 = 0.56\n",
    "# mean_firing_threshold = 6\n",
    "# max_firing_rate = 5\n",
    "\n",
    "# A, B, C, a, ad, b, r_0, r_1, r_2, alpha, beta\n",
    "\n",
    "# Alpha and beta \n",
    "\n",
    "# same sweep as https://doi.org/10.1371/journal.pcbi.1008737 - α 2 [0, 1], β 2 [0, 0.5] and r0 2 [0, 1].\n",
    "\n",
    "search_space = [\n",
    "    Real(1, 8, name=\"A\"),   \n",
    "    Integer(10, 40, name=\"B\"),  \n",
    "    Integer(90, 200, name=\"C\"), \n",
    "    Integer(50, 150, name=\"a\"),  \n",
    "    Integer(10, 75, name=\"ad\"),   \n",
    "    Integer(10, 50, name=\"b\"), \n",
    "    Real(0.0, 1.0, name=\"r_0\"), \n",
    "    Real(0.0, 1.0, name=\"r_1\"), \n",
    "    Real(0.0, 1.0, name=\"r_2\"), \n",
    "    Real(0.0, 1.0, name=\"alpha\"), \n",
    "    Real(0.0, 0.5, name=\"beta\") \n",
    "]"
   ]
  },
  {
   "cell_type": "code",
   "execution_count": null,
   "metadata": {},
   "outputs": [],
   "source": [
    "# Run the optimizer - change loss function and loss parameters\n",
    "eeg_res_control_100_gp_32in = gp_minimize(find_eeg_loss, search_space, n_calls=120, n_initial_points=32, initial_point_generator=\"sobol\")\n",
    "\n",
    "with open('eeg_res_control_100_gp_32in.pkl', 'wb') as f:\n",
    "    pickle.dump(eeg_res_control_100_gp_32in , f)"
   ]
  }
 ],
 "metadata": {
  "kernelspec": {
   "display_name": "nilearnenv",
   "language": "python",
   "name": "python3"
  },
  "language_info": {
   "codemirror_mode": {
    "name": "ipython",
    "version": 3
   },
   "file_extension": ".py",
   "mimetype": "text/x-python",
   "name": "python",
   "nbconvert_exporter": "python",
   "pygments_lexer": "ipython3",
   "version": "3.9.18"
  }
 },
 "nbformat": 4,
 "nbformat_minor": 2
}
