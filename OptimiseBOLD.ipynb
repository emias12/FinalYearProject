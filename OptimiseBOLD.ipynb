{
 "cells": [
  {
   "cell_type": "code",
   "execution_count": 1,
   "metadata": {},
   "outputs": [],
   "source": [
    "%run Jansen_And_Rit.py"
   ]
  },
  {
   "cell_type": "code",
   "execution_count": 3,
   "metadata": {},
   "outputs": [
    {
     "ename": "SyntaxError",
     "evalue": "invalid syntax (BOLD_Model.py, line 26)",
     "output_type": "error",
     "traceback": [
      "\u001b[1;36m  File \u001b[1;32m~\\Documents\\CDocuments\\FinalYearProject\\Model\\BOLD_Model.py:26\u001b[1;36m\u001b[0m\n\u001b[1;33m    %store -r x1\u001b[0m\n\u001b[1;37m    ^\u001b[0m\n\u001b[1;31mSyntaxError\u001b[0m\u001b[1;31m:\u001b[0m invalid syntax\n"
     ]
    },
    {
     "ename": "NameError",
     "evalue": "name 'balloon_windkessel_ode' is not defined",
     "output_type": "error",
     "traceback": [
      "\u001b[1;31m---------------------------------------------------------------------------\u001b[0m",
      "\u001b[1;31mNameError\u001b[0m                                 Traceback (most recent call last)",
      "Cell \u001b[1;32mIn[3], line 21\u001b[0m\n\u001b[0;32m     17\u001b[0m \u001b[38;5;66;03m# Run simulation using Euler method, NOTE - total_downsampled_sims is the number of timepoints we have firing rates for \u001b[39;00m\n\u001b[0;32m     18\u001b[0m \u001b[38;5;28;01mfor\u001b[39;00m i \u001b[38;5;129;01min\u001b[39;00m \u001b[38;5;28mrange\u001b[39m(total_downsampled_sims):\n\u001b[0;32m     19\u001b[0m     \u001b[38;5;66;03m# dt has to match the sampling frew of what you pass into the BOLD model, in this case it is the data already \u001b[39;00m\n\u001b[0;32m     20\u001b[0m     \u001b[38;5;66;03m# downsampled by eeg freq\u001b[39;00m\n\u001b[1;32m---> 21\u001b[0m     BOLD_temp \u001b[38;5;241m+\u001b[39m\u001b[38;5;241m=\u001b[39m (\u001b[38;5;241m1\u001b[39m\u001b[38;5;241m/\u001b[39meeg_freq) \u001b[38;5;241m*\u001b[39m np\u001b[38;5;241m.\u001b[39marray(\u001b[43mballoon_windkessel_ode\u001b[49m(BOLD_temp, i))\n\u001b[0;32m     22\u001b[0m     BOLD_vars[i] \u001b[38;5;241m=\u001b[39m np\u001b[38;5;241m.\u001b[39mcopy(BOLD_temp)\n\u001b[0;32m     24\u001b[0m \u001b[38;5;66;03m#Downsample by adjusted rate\u001b[39;00m\n",
      "\u001b[1;31mNameError\u001b[0m: name 'balloon_windkessel_ode' is not defined"
     ]
    }
   ],
   "source": [
    "from scipy import signal\n",
    "%run BOLD_Model.py\n",
    "\n",
    "# As J&R model already run with downsampling for eeg, need to adjust downsampling rate\n",
    "adjusted_downsample = int(downsample_bold / downsample_eeg)\n",
    "\n",
    "# Initial conditions\n",
    "initial_conditions = np.array([[0.1, 1, 1, 1]] * num_nodes).T\n",
    "\n",
    "total_bold_downsampled_sims = int(total_downsampled_sims / adjusted_downsample)\n",
    "\n",
    "# Array to store results\n",
    "BOLD_vars = np.zeros((total_downsampled_sims + 1 , 4, num_nodes))\n",
    "BOLD_vars[0] = initial_conditions\n",
    "BOLD_temp = np.copy(initial_conditions)\n",
    "\n",
    "# Run simulation using Euler method, NOTE - total_downsampled_sims is the number of timepoints we have firing rates for \n",
    "for i in range(total_downsampled_sims):\n",
    "    # dt has to match the sampling frew of what you pass into the BOLD model, in this case it is the data already \n",
    "    # downsampled by eeg freq\n",
    "    BOLD_temp += (1/eeg_freq) * np.array(balloon_windkessel_ode(BOLD_temp, i))\n",
    "    BOLD_vars[i] = np.copy(BOLD_temp)\n",
    "\n",
    "#Downsample by adjusted rate\n",
    "BOLD_vars = BOLD_vars[::adjusted_downsample]\n",
    "\n",
    "# Take final half of results as simulation points\n",
    "BOLD_sim_length = int(1/2 * total_bold_downsampled_sims)\n",
    "BOLD_vars_result = BOLD_vars[-BOLD_sim_length:]\n",
    "\n",
    "# Initialize BOLD array - will only take the final BOLD_sim_length timepoints\n",
    "BOLD_array = np.zeros((BOLD_sim_length - 1, num_nodes))\n",
    "\n",
    "# Generate BOLD array\n",
    "q = BOLD_vars_result[:-1, 3, :]\n",
    "v = BOLD_vars_result[:-1, 2, :]\n",
    "\n",
    "BOLD_array = V_0 * (k1 * (1 - q) + k2 * (1 - (q / v)) + k3 * (1 - v))\n",
    "\n",
    "# Pass BOLD signals through bandpass filter\n",
    "\n",
    "Fmin, Fmax = 0.01, 0.1\n",
    "tr = 1 / bold_freq\n",
    "a0, b0 = signal.bessel(3, [2 * tr * Fmin, 2 * tr * Fmax], btype = 'bandpass')\n",
    "BOLDfilt = signal.filtfilt(a0, b0, BOLD_array[:,:], axis = 0)\n",
    "\n",
    "# Calculate the FC from the filtered BOLD signal\n",
    "\n",
    "FC_matrix = np.corrcoef(BOLDfilt.T)\n",
    "\n",
    "fig = plt.figure(figsize=(8, 6))\n",
    "plt.imshow(FC_matrix, cmap='RdBu', vmin=-1, vmax=1)\n",
    "plt.colorbar()\n",
    "plt.title('Correlation Matrix')\n",
    "plt.xlabel('Node Index')\n",
    "plt.ylabel('Node Index')\n",
    "plt.show()\n",
    "plt.close(fig)"
   ]
  },
  {
   "cell_type": "code",
   "execution_count": null,
   "metadata": {},
   "outputs": [],
   "source": [
    "# Calculate goodness of fit for BOLD data ####################################################\n",
    "\n",
    "# Load the empricical (averaged) FC matrix\n",
    "observed_fc_matrix = np.load(\"fc_matrices/averaged_fc_matrix.npy\")\n",
    "\n",
    "# Flatten both and use pearson correlation to calculate goodness of fit\n",
    "pearson_corr = np.corrcoef(np.ravel(FC_matrix), np.ravel(observed_fc_matrix))[0, 1]\n",
    "\n",
    "print(\"Pearson correlation coefficient:\", pearson_corr)"
   ]
  }
 ],
 "metadata": {
  "kernelspec": {
   "display_name": "nilearnenv",
   "language": "python",
   "name": "python3"
  },
  "language_info": {
   "codemirror_mode": {
    "name": "ipython",
    "version": 3
   },
   "file_extension": ".py",
   "mimetype": "text/x-python",
   "name": "python",
   "nbconvert_exporter": "python",
   "pygments_lexer": "ipython3",
   "version": "3.9.18"
  }
 },
 "nbformat": 4,
 "nbformat_minor": 2
}
