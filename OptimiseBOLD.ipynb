{
 "cells": [
  {
   "cell_type": "code",
   "execution_count": 1,
   "metadata": {},
   "outputs": [
    {
     "ename": "FileNotFoundError",
     "evalue": "SC_in_Schaefer-100.csv not found.",
     "output_type": "error",
     "traceback": [
      "\u001b[1;31m---------------------------------------------------------------------------\u001b[0m",
      "\u001b[1;31mFileNotFoundError\u001b[0m                         Traceback (most recent call last)",
      "File \u001b[1;32m~\\Documents\\CDocuments\\FinalYearProject\\Model\\Jansen_And_Rit.py:43\u001b[0m\n\u001b[0;32m     41\u001b[0m \u001b[38;5;66;03m# Structural Connectivity Matrix\u001b[39;00m\n\u001b[0;32m     42\u001b[0m num_nodes \u001b[38;5;241m=\u001b[39m \u001b[38;5;241m100\u001b[39m\n\u001b[1;32m---> 43\u001b[0m SC \u001b[38;5;241m=\u001b[39m \u001b[43mnp\u001b[49m\u001b[38;5;241;43m.\u001b[39;49m\u001b[43mgenfromtxt\u001b[49m\u001b[43m(\u001b[49m\u001b[38;5;124;43m'\u001b[39;49m\u001b[38;5;124;43mSC_in_Schaefer-100.csv\u001b[39;49m\u001b[38;5;124;43m'\u001b[39;49m\u001b[43m,\u001b[49m\u001b[43m \u001b[49m\u001b[43mdelimiter\u001b[49m\u001b[38;5;241;43m=\u001b[39;49m\u001b[38;5;124;43m'\u001b[39;49m\u001b[38;5;124;43m,\u001b[39;49m\u001b[38;5;124;43m'\u001b[39;49m\u001b[43m)\u001b[49m\n\u001b[0;32m     45\u001b[0m max_firing_rate \u001b[38;5;241m=\u001b[39m \u001b[38;5;241m5\u001b[39m\n\u001b[0;32m     46\u001b[0m mean_firing_threshold \u001b[38;5;241m=\u001b[39m \u001b[38;5;241m6\u001b[39m\n",
      "File \u001b[1;32mc:\\Users\\stapl\\anaconda3\\envs\\nilearnenv\\lib\\site-packages\\numpy\\lib\\npyio.py:1929\u001b[0m, in \u001b[0;36mgenfromtxt\u001b[1;34m(fname, dtype, comments, delimiter, skip_header, skip_footer, converters, missing_values, filling_values, usecols, names, excludelist, deletechars, replace_space, autostrip, case_sensitive, defaultfmt, unpack, usemask, loose, invalid_raise, max_rows, encoding, ndmin, like)\u001b[0m\n\u001b[0;32m   1927\u001b[0m     fname \u001b[38;5;241m=\u001b[39m os_fspath(fname)\n\u001b[0;32m   1928\u001b[0m \u001b[38;5;28;01mif\u001b[39;00m \u001b[38;5;28misinstance\u001b[39m(fname, \u001b[38;5;28mstr\u001b[39m):\n\u001b[1;32m-> 1929\u001b[0m     fid \u001b[38;5;241m=\u001b[39m \u001b[43mnp\u001b[49m\u001b[38;5;241;43m.\u001b[39;49m\u001b[43mlib\u001b[49m\u001b[38;5;241;43m.\u001b[39;49m\u001b[43m_datasource\u001b[49m\u001b[38;5;241;43m.\u001b[39;49m\u001b[43mopen\u001b[49m\u001b[43m(\u001b[49m\u001b[43mfname\u001b[49m\u001b[43m,\u001b[49m\u001b[43m \u001b[49m\u001b[38;5;124;43m'\u001b[39;49m\u001b[38;5;124;43mrt\u001b[39;49m\u001b[38;5;124;43m'\u001b[39;49m\u001b[43m,\u001b[49m\u001b[43m \u001b[49m\u001b[43mencoding\u001b[49m\u001b[38;5;241;43m=\u001b[39;49m\u001b[43mencoding\u001b[49m\u001b[43m)\u001b[49m\n\u001b[0;32m   1930\u001b[0m     fid_ctx \u001b[38;5;241m=\u001b[39m contextlib\u001b[38;5;241m.\u001b[39mclosing(fid)\n\u001b[0;32m   1931\u001b[0m \u001b[38;5;28;01melse\u001b[39;00m:\n",
      "File \u001b[1;32mc:\\Users\\stapl\\anaconda3\\envs\\nilearnenv\\lib\\site-packages\\numpy\\lib\\_datasource.py:193\u001b[0m, in \u001b[0;36mopen\u001b[1;34m(path, mode, destpath, encoding, newline)\u001b[0m\n\u001b[0;32m    156\u001b[0m \u001b[38;5;250m\u001b[39m\u001b[38;5;124;03m\"\"\"\u001b[39;00m\n\u001b[0;32m    157\u001b[0m \u001b[38;5;124;03mOpen `path` with `mode` and return the file object.\u001b[39;00m\n\u001b[0;32m    158\u001b[0m \n\u001b[1;32m   (...)\u001b[0m\n\u001b[0;32m    189\u001b[0m \n\u001b[0;32m    190\u001b[0m \u001b[38;5;124;03m\"\"\"\u001b[39;00m\n\u001b[0;32m    192\u001b[0m ds \u001b[38;5;241m=\u001b[39m DataSource(destpath)\n\u001b[1;32m--> 193\u001b[0m \u001b[38;5;28;01mreturn\u001b[39;00m \u001b[43mds\u001b[49m\u001b[38;5;241;43m.\u001b[39;49m\u001b[43mopen\u001b[49m\u001b[43m(\u001b[49m\u001b[43mpath\u001b[49m\u001b[43m,\u001b[49m\u001b[43m \u001b[49m\u001b[43mmode\u001b[49m\u001b[43m,\u001b[49m\u001b[43m \u001b[49m\u001b[43mencoding\u001b[49m\u001b[38;5;241;43m=\u001b[39;49m\u001b[43mencoding\u001b[49m\u001b[43m,\u001b[49m\u001b[43m \u001b[49m\u001b[43mnewline\u001b[49m\u001b[38;5;241;43m=\u001b[39;49m\u001b[43mnewline\u001b[49m\u001b[43m)\u001b[49m\n",
      "File \u001b[1;32mc:\\Users\\stapl\\anaconda3\\envs\\nilearnenv\\lib\\site-packages\\numpy\\lib\\_datasource.py:533\u001b[0m, in \u001b[0;36mDataSource.open\u001b[1;34m(self, path, mode, encoding, newline)\u001b[0m\n\u001b[0;32m    530\u001b[0m     \u001b[38;5;28;01mreturn\u001b[39;00m _file_openers[ext](found, mode\u001b[38;5;241m=\u001b[39mmode,\n\u001b[0;32m    531\u001b[0m                               encoding\u001b[38;5;241m=\u001b[39mencoding, newline\u001b[38;5;241m=\u001b[39mnewline)\n\u001b[0;32m    532\u001b[0m \u001b[38;5;28;01melse\u001b[39;00m:\n\u001b[1;32m--> 533\u001b[0m     \u001b[38;5;28;01mraise\u001b[39;00m \u001b[38;5;167;01mFileNotFoundError\u001b[39;00m(\u001b[38;5;124mf\u001b[39m\u001b[38;5;124m\"\u001b[39m\u001b[38;5;132;01m{\u001b[39;00mpath\u001b[38;5;132;01m}\u001b[39;00m\u001b[38;5;124m not found.\u001b[39m\u001b[38;5;124m\"\u001b[39m)\n",
      "\u001b[1;31mFileNotFoundError\u001b[0m: SC_in_Schaefer-100.csv not found."
     ]
    }
   ],
   "source": [
    "%run Jansen_And_Rit.py"
   ]
  },
  {
   "cell_type": "code",
   "execution_count": null,
   "metadata": {},
   "outputs": [],
   "source": [
    "from scipy import signal\n",
    "%run BOLD_Model.ipynb\n",
    "\n",
    "# As J&R model already run with downsampling for eeg, need to adjust downsampling rate\n",
    "adjusted_downsample = int(downsample_bold / downsample_eeg)\n",
    "\n",
    "# Initial conditions\n",
    "initial_conditions = np.array([[0.1, 1, 1, 1]] * num_nodes).T\n",
    "\n",
    "total_bold_downsampled_sims = int(total_downsampled_sims / adjusted_downsample)\n",
    "\n",
    "# Array to store results\n",
    "BOLD_vars = np.zeros((total_downsampled_sims + 1 , 4, num_nodes))\n",
    "BOLD_vars[0] = initial_conditions\n",
    "BOLD_temp = np.copy(initial_conditions)\n",
    "\n",
    "# Run simulation using Euler method, NOTE - total_downsampled_sims is the number of timepoints we have firing rates for \n",
    "for i in range(total_downsampled_sims):\n",
    "    # dt has to match the sampling frew of what you pass into the BOLD model, in this case it is the data already \n",
    "    # downsampled by eeg freq\n",
    "    BOLD_temp += (1/eeg_freq) * np.array(balloon_windkessel_ode(BOLD_temp, i))\n",
    "    BOLD_vars[i] = np.copy(BOLD_temp)\n",
    "\n",
    "#Downsample by adjusted rate\n",
    "BOLD_vars = BOLD_vars[::adjusted_downsample]\n",
    "\n",
    "# Take final half of results as simulation points\n",
    "BOLD_sim_length = int(1/2 * total_bold_downsampled_sims)\n",
    "BOLD_vars_result = BOLD_vars[-BOLD_sim_length:]\n",
    "\n",
    "# Initialize BOLD array - will only take the final BOLD_sim_length timepoints\n",
    "BOLD_array = np.zeros((BOLD_sim_length - 1, num_nodes))\n",
    "\n",
    "# Generate BOLD array\n",
    "q = BOLD_vars_result[:-1, 3, :]\n",
    "v = BOLD_vars_result[:-1, 2, :]\n",
    "\n",
    "BOLD_array = V_0 * (k1 * (1 - q) + k2 * (1 - (q / v)) + k3 * (1 - v))\n",
    "\n",
    "# Pass BOLD signals through bandpass filter\n",
    "\n",
    "Fmin, Fmax = 0.01, 0.1\n",
    "tr = 1 / bold_freq\n",
    "a0, b0 = signal.bessel(3, [2 * tr * Fmin, 2 * tr * Fmax], btype = 'bandpass')\n",
    "BOLDfilt = signal.filtfilt(a0, b0, BOLD_array[:,:], axis = 0)\n",
    "\n",
    "# Calculate the FC from the filtered BOLD signal\n",
    "\n",
    "FC_matrix = np.corrcoef(BOLDfilt.T)\n",
    "\n",
    "fig = plt.figure(figsize=(8, 6))\n",
    "plt.imshow(FC_matrix, cmap='RdBu', vmin=-1, vmax=1)\n",
    "plt.colorbar()\n",
    "plt.title('Correlation Matrix')\n",
    "plt.xlabel('Node Index')\n",
    "plt.ylabel('Node Index')\n",
    "plt.show()\n",
    "plt.close(fig)"
   ]
  },
  {
   "cell_type": "code",
   "execution_count": null,
   "metadata": {},
   "outputs": [],
   "source": [
    "# Calculate goodness of fit for BOLD data ####################################################\n",
    "\n",
    "# Load the empricical (averaged) FC matrix\n",
    "observed_fc_matrix = np.load(\"fc_matrices/averaged_fc_matrix.npy\")\n",
    "\n",
    "# Flatten both and use pearson correlation to calculate goodness of fit\n",
    "pearson_corr = np.corrcoef(np.ravel(FC_matrix), np.ravel(observed_fc_matrix))[0, 1]\n",
    "\n",
    "print(\"Pearson correlation coefficient:\", pearson_corr)"
   ]
  }
 ],
 "metadata": {
  "kernelspec": {
   "display_name": "nilearnenv",
   "language": "python",
   "name": "python3"
  },
  "language_info": {
   "codemirror_mode": {
    "name": "ipython",
    "version": 3
   },
   "file_extension": ".py",
   "mimetype": "text/x-python",
   "name": "python",
   "nbconvert_exporter": "python",
   "pygments_lexer": "ipython3",
   "version": "3.9.18"
  }
 },
 "nbformat": 4,
 "nbformat_minor": 2
}
