{
 "cells": [
  {
   "cell_type": "code",
   "execution_count": 2,
   "metadata": {},
   "outputs": [],
   "source": [
    "import mne \n",
    "import os.path as op\n",
    "import numpy as np\n",
    "from mne.datasets import eegbci, fetch_fsaverage"
   ]
  },
  {
   "cell_type": "code",
   "execution_count": 3,
   "metadata": {},
   "outputs": [
    {
     "name": "stdout",
     "output_type": "stream",
     "text": [
      "0 files missing from root.txt in C:\\Users\\stapl\\mne_data\\MNE-fsaverage-data\n",
      "0 files missing from bem.txt in C:\\Users\\stapl\\mne_data\\MNE-fsaverage-data\\fsaverage\n",
      "Extracting EDF parameters from C:\\Users\\stapl\\mne_data\\MNE-eegbci-data\\files\\eegmmidb\\1.0.0\\S001\\S001R06.edf...\n",
      "EDF file detected\n",
      "Setting channel info structure...\n",
      "Creating raw.info structure...\n",
      "Reading 0 ... 19999  =      0.000 ...   124.994 secs...\n",
      "EEG channel type selected for re-referencing\n",
      "Adding average EEG reference projection.\n",
      "1 projection items deactivated\n",
      "Average reference projection was added, but has not been applied yet. Use the apply_proj method to apply it.\n",
      "Reading C:\\Users\\stapl\\mne_data\\MNE-fsaverage-data\\fsaverage\\bem\\fsaverage-ico-5-src.fif...\n",
      "Using pyvistaqt 3d backend.\n",
      "\n",
      "Using outer_skin.surf for head surface.\n",
      "Channel types::\teeg: 64\n",
      "Projecting sensors to the head surface\n"
     ]
    },
    {
     "data": {
      "text/plain": [
       "<mne.viz.backends._pyvista.PyVistaFigure at 0x1e485f84730>"
      ]
     },
     "execution_count": 3,
     "metadata": {},
     "output_type": "execute_result"
    }
   ],
   "source": [
    "# Download fsaverage files\n",
    "fs_dir = fetch_fsaverage(verbose=True)\n",
    "subjects_dir = op.dirname(fs_dir)\n",
    "\n",
    "# The files live in:\n",
    "subject = \"fsaverage\"\n",
    "trans = \"fsaverage\"  # MNE has a built-in fsaverage transformation\n",
    "src = op.join(fs_dir, \"bem\", \"fsaverage-ico-5-src.fif\")\n",
    "bem = op.join(fs_dir, \"bem\", \"fsaverage-5120-5120-5120-bem-sol.fif\")\n",
    "\n",
    "(raw_fname,) = eegbci.load_data(subject=1, runs=[6])\n",
    "raw = mne.io.read_raw_edf(raw_fname, preload=True)\n",
    "\n",
    "# Clean channel names to be able to use a standard 1005 montage\n",
    "new_names = dict(\n",
    "    (ch_name, ch_name.rstrip(\".\").upper().replace(\"Z\", \"z\").replace(\"FP\", \"Fp\"))\n",
    "    for ch_name in raw.ch_names\n",
    ")\n",
    "raw.rename_channels(new_names)\n",
    "\n",
    "# Read and set the EEG electrode locations, which are already in fsaverage's\n",
    "# space (MNI space) for standard_1020:\n",
    "montage = mne.channels.make_standard_montage(\"standard_1005\")\n",
    "raw.set_montage(montage)\n",
    "raw.set_eeg_reference(projection=True)  # needed for inverse modeling\n",
    "\n",
    "# Check that the locations of EEG electrodes is correct with respect to MRI\n",
    "mne.viz.plot_alignment(\n",
    "    raw.info,\n",
    "    src=src,\n",
    "    eeg=[\"original\", \"projected\"],\n",
    "    trans=trans,\n",
    "    show_axes=True,\n",
    "    mri_fiducials=True,\n",
    "    dig=\"fiducials\",\n",
    ")"
   ]
  },
  {
   "cell_type": "code",
   "execution_count": 5,
   "metadata": {},
   "outputs": [
    {
     "name": "stdout",
     "output_type": "stream",
     "text": [
      "Source space          : C:\\Users\\stapl\\mne_data\\MNE-fsaverage-data\\fsaverage\\bem\\fsaverage-ico-5-src.fif\n",
      "MRI -> head transform : c:\\Users\\stapl\\anaconda3\\envs\\nilearnenv\\lib\\site-packages\\mne\\data\\fsaverage\\fsaverage-trans.fif\n",
      "Measurement data      : instance of Info\n",
      "Conductor model   : C:\\Users\\stapl\\mne_data\\MNE-fsaverage-data\\fsaverage\\bem\\fsaverage-5120-5120-5120-bem-sol.fif\n",
      "Accurate field computations\n",
      "Do computations in head coordinates\n",
      "Free source orientations\n",
      "\n",
      "Reading C:\\Users\\stapl\\mne_data\\MNE-fsaverage-data\\fsaverage\\bem\\fsaverage-ico-5-src.fif...\n",
      "Read 2 source spaces a total of 20484 active source locations\n",
      "\n",
      "Coordinate transformation: MRI (surface RAS) -> head\n",
      "     0.999994  0.003552  0.000202      -1.76 mm\n",
      "    -0.003558  0.998389  0.056626      31.09 mm\n",
      "    -0.000001 -0.056626  0.998395      39.60 mm\n",
      "     0.000000  0.000000  0.000000       1.00\n",
      "\n",
      "Read  64 EEG channels from info\n",
      "Head coordinate coil definitions created.\n",
      "Source spaces are now in head coordinates.\n",
      "\n",
      "Setting up the BEM model using C:\\Users\\stapl\\mne_data\\MNE-fsaverage-data\\fsaverage\\bem\\fsaverage-5120-5120-5120-bem-sol.fif...\n",
      "\n",
      "Loading surfaces...\n",
      "\n",
      "Loading the solution matrix...\n",
      "\n",
      "Three-layer model surfaces loaded.\n",
      "Loaded linear collocation BEM solution from C:\\Users\\stapl\\mne_data\\MNE-fsaverage-data\\fsaverage\\bem\\fsaverage-5120-5120-5120-bem-sol.fif\n",
      "Employing the head->MRI coordinate transform with the BEM model.\n",
      "BEM model fsaverage-5120-5120-5120-bem-sol.fif is now set up\n",
      "\n",
      "Source spaces are in head coordinates.\n",
      "Checking that the sources are inside the surface and at least    5.0 mm away (will take a few...)\n",
      "Checking surface interior status for 10242 points...\n",
      "    Found  2433/10242 points inside  an interior sphere of radius   47.7 mm\n",
      "    Found     0/10242 points outside an exterior sphere of radius   98.3 mm\n",
      "    Found     0/ 7809 points outside using surface Qhull\n",
      "    Found     0/ 7809 points outside using solid angles\n",
      "    Total 10242/10242 points inside the surface\n",
      "Interior check completed in 7702.3 ms\n",
      "Checking surface interior status for 10242 points...\n",
      "    Found  2241/10242 points inside  an interior sphere of radius   47.7 mm\n",
      "    Found     0/10242 points outside an exterior sphere of radius   98.3 mm\n",
      "    Found     0/ 8001 points outside using surface Qhull\n",
      "    Found     0/ 8001 points outside using solid angles\n",
      "    Total 10242/10242 points inside the surface\n",
      "Interior check completed in 7574.8 ms\n",
      "\n",
      "Setting up for EEG...\n",
      "Computing EEG at 20484 source locations (free orientations)...\n",
      "\n",
      "Finished.\n",
      "<Forward | MEG channels: 0 | EEG channels: 64 | Source space: Surface with 20484 vertices | Source orientation: Free>\n"
     ]
    }
   ],
   "source": [
    "fwd = mne.make_forward_solution(\n",
    "    raw.info, trans=trans, src=src, bem=bem, eeg=True, mindist=5.0, n_jobs=None\n",
    ")\n",
    "print(fwd)"
   ]
  }
 ],
 "metadata": {
  "kernelspec": {
   "display_name": "nilearnenv",
   "language": "python",
   "name": "python3"
  },
  "language_info": {
   "codemirror_mode": {
    "name": "ipython",
    "version": 3
   },
   "file_extension": ".py",
   "mimetype": "text/x-python",
   "name": "python",
   "nbconvert_exporter": "python",
   "pygments_lexer": "ipython3",
   "version": "3.9.18"
  }
 },
 "nbformat": 4,
 "nbformat_minor": 2
}
