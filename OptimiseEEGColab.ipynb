{
  "cells": [
    {
      "cell_type": "markdown",
      "metadata": {
        "id": "view-in-github",
        "colab_type": "text"
      },
      "source": [
        "<a href=\"https://colab.research.google.com/github/emias12/FinalYearProject/blob/main/OptimiseEEGColab.ipynb\" target=\"_parent\"><img src=\"https://colab.research.google.com/assets/colab-badge.svg\" alt=\"Open In Colab\"/></a>"
      ]
    },
    {
      "cell_type": "code",
      "source": [
        "!unzip Colab.zip\n",
        "%ls\n",
        "!pip install mne\n",
        "!pip install scikit-optimize"
      ],
      "metadata": {
        "colab": {
          "base_uri": "https://localhost:8080/"
        },
        "collapsed": true,
        "id": "7Htk9aNo5xvQ",
        "outputId": "0e788460-8708-4147-9ee5-d7d037ec49ee"
      },
      "execution_count": 6,
      "outputs": [
        {
          "output_type": "stream",
          "name": "stdout",
          "text": [
            "Archive:  Colab.zip\n",
            "replace Colab/emp_spec.npy? [y]es, [n]o, [A]ll, [N]one, [r]ename: n\n",
            "replace Colab/Jansen_And_Rit.py? [y]es, [n]o, [A]ll, [N]one, [r]ename: n\n",
            "replace Colab/OptimiseEEG.ipynb? [y]es, [n]o, [A]ll, [N]one, [r]ename: n\n",
            "replace Colab/SC_in_Schaefer-100.csv? [y]es, [n]o, [A]ll, [N]one, [r]ename: n\n",
            "\u001b[0m\u001b[01;34mColab\u001b[0m/  Colab.zip  \u001b[01;34msample_data\u001b[0m/\n",
            "Collecting mne\n",
            "  Downloading mne-1.7.0-py3-none-any.whl (7.4 MB)\n",
            "\u001b[2K     \u001b[90m━━━━━━━━━━━━━━━━━━━━━━━━━━━━━━━━━━━━━━━━\u001b[0m \u001b[32m7.4/7.4 MB\u001b[0m \u001b[31m25.7 MB/s\u001b[0m eta \u001b[36m0:00:00\u001b[0m\n",
            "\u001b[?25hRequirement already satisfied: decorator in /usr/local/lib/python3.10/dist-packages (from mne) (5.1.1)\n",
            "Requirement already satisfied: jinja2 in /usr/local/lib/python3.10/dist-packages (from mne) (3.1.4)\n",
            "Requirement already satisfied: lazy-loader>=0.3 in /usr/local/lib/python3.10/dist-packages (from mne) (0.4)\n",
            "Requirement already satisfied: matplotlib>=3.5.0 in /usr/local/lib/python3.10/dist-packages (from mne) (3.7.1)\n",
            "Requirement already satisfied: numpy>=1.21.2 in /usr/local/lib/python3.10/dist-packages (from mne) (1.25.2)\n",
            "Requirement already satisfied: packaging in /usr/local/lib/python3.10/dist-packages (from mne) (24.0)\n",
            "Requirement already satisfied: pooch>=1.5 in /usr/local/lib/python3.10/dist-packages (from mne) (1.8.1)\n",
            "Requirement already satisfied: scipy>=1.7.1 in /usr/local/lib/python3.10/dist-packages (from mne) (1.11.4)\n",
            "Requirement already satisfied: tqdm in /usr/local/lib/python3.10/dist-packages (from mne) (4.66.4)\n",
            "Requirement already satisfied: contourpy>=1.0.1 in /usr/local/lib/python3.10/dist-packages (from matplotlib>=3.5.0->mne) (1.2.1)\n",
            "Requirement already satisfied: cycler>=0.10 in /usr/local/lib/python3.10/dist-packages (from matplotlib>=3.5.0->mne) (0.12.1)\n",
            "Requirement already satisfied: fonttools>=4.22.0 in /usr/local/lib/python3.10/dist-packages (from matplotlib>=3.5.0->mne) (4.51.0)\n",
            "Requirement already satisfied: kiwisolver>=1.0.1 in /usr/local/lib/python3.10/dist-packages (from matplotlib>=3.5.0->mne) (1.4.5)\n",
            "Requirement already satisfied: pillow>=6.2.0 in /usr/local/lib/python3.10/dist-packages (from matplotlib>=3.5.0->mne) (10.3.0)\n",
            "Requirement already satisfied: pyparsing>=2.3.1 in /usr/local/lib/python3.10/dist-packages (from matplotlib>=3.5.0->mne) (3.1.2)\n",
            "Requirement already satisfied: python-dateutil>=2.7 in /usr/local/lib/python3.10/dist-packages (from matplotlib>=3.5.0->mne) (2.9.0.post0)\n",
            "Requirement already satisfied: platformdirs>=2.5.0 in /usr/local/lib/python3.10/dist-packages (from pooch>=1.5->mne) (4.2.1)\n",
            "Requirement already satisfied: requests>=2.19.0 in /usr/local/lib/python3.10/dist-packages (from pooch>=1.5->mne) (2.31.0)\n",
            "Requirement already satisfied: MarkupSafe>=2.0 in /usr/local/lib/python3.10/dist-packages (from jinja2->mne) (2.1.5)\n",
            "Requirement already satisfied: six>=1.5 in /usr/local/lib/python3.10/dist-packages (from python-dateutil>=2.7->matplotlib>=3.5.0->mne) (1.16.0)\n",
            "Requirement already satisfied: charset-normalizer<4,>=2 in /usr/local/lib/python3.10/dist-packages (from requests>=2.19.0->pooch>=1.5->mne) (3.3.2)\n",
            "Requirement already satisfied: idna<4,>=2.5 in /usr/local/lib/python3.10/dist-packages (from requests>=2.19.0->pooch>=1.5->mne) (3.7)\n",
            "Requirement already satisfied: urllib3<3,>=1.21.1 in /usr/local/lib/python3.10/dist-packages (from requests>=2.19.0->pooch>=1.5->mne) (2.0.7)\n",
            "Requirement already satisfied: certifi>=2017.4.17 in /usr/local/lib/python3.10/dist-packages (from requests>=2.19.0->pooch>=1.5->mne) (2024.2.2)\n",
            "Installing collected packages: mne\n",
            "Successfully installed mne-1.7.0\n",
            "Collecting scikit-optimize\n",
            "  Downloading scikit_optimize-0.10.1-py2.py3-none-any.whl (107 kB)\n",
            "\u001b[2K     \u001b[90m━━━━━━━━━━━━━━━━━━━━━━━━━━━━━━━━━━━━━━━━\u001b[0m \u001b[32m107.7/107.7 kB\u001b[0m \u001b[31m1.9 MB/s\u001b[0m eta \u001b[36m0:00:00\u001b[0m\n",
            "\u001b[?25hRequirement already satisfied: joblib>=0.11 in /usr/local/lib/python3.10/dist-packages (from scikit-optimize) (1.4.2)\n",
            "Collecting pyaml>=16.9 (from scikit-optimize)\n",
            "  Downloading pyaml-24.4.0-py3-none-any.whl (24 kB)\n",
            "Requirement already satisfied: numpy>=1.20.3 in /usr/local/lib/python3.10/dist-packages (from scikit-optimize) (1.25.2)\n",
            "Requirement already satisfied: scipy>=1.1.0 in /usr/local/lib/python3.10/dist-packages (from scikit-optimize) (1.11.4)\n",
            "Requirement already satisfied: scikit-learn>=1.0.0 in /usr/local/lib/python3.10/dist-packages (from scikit-optimize) (1.2.2)\n",
            "Requirement already satisfied: packaging>=21.3 in /usr/local/lib/python3.10/dist-packages (from scikit-optimize) (24.0)\n",
            "Requirement already satisfied: PyYAML in /usr/local/lib/python3.10/dist-packages (from pyaml>=16.9->scikit-optimize) (6.0.1)\n",
            "Requirement already satisfied: threadpoolctl>=2.0.0 in /usr/local/lib/python3.10/dist-packages (from scikit-learn>=1.0.0->scikit-optimize) (3.5.0)\n",
            "Installing collected packages: pyaml, scikit-optimize\n",
            "Successfully installed pyaml-24.4.0 scikit-optimize-0.10.1\n"
          ]
        }
      ]
    },
    {
      "cell_type": "code",
      "execution_count": 8,
      "metadata": {
        "id": "b0tNtW4utBwf"
      },
      "outputs": [],
      "source": [
        "%run Jansen_And_Rit.py"
      ]
    },
    {
      "cell_type": "code",
      "execution_count": 36,
      "metadata": {
        "id": "7mzFf8j1tBwo"
      },
      "outputs": [],
      "source": [
        "def find_eeg_loss(x):\n",
        "    print(x[0])\n",
        "    x1, x2, x3, V_T_sim = run_jansen_and_rit(x[0],) # Just takes C for now\n",
        "    emp_spec = np.load('emp_spec.npy', allow_pickle=True).item()  # Load as a dictionary\n",
        "\n",
        "    gen_data = V_T_sim.T\n",
        "    fake_info = mne.create_info(100, sfreq=eeg_freq, ch_types='eeg')\n",
        "    gen_raw = mne.io.RawArray(gen_data, fake_info)\n",
        "    gen_spec = gen_raw.compute_psd(fmin=0, fmax=80, picks=\"all\", n_jobs=-1)\n",
        "\n",
        "    # Trims the data to the same number of time samples, marginal diff (161 to 168, as empirical over 8 seconds and generated over 2)\n",
        "    time_samples = min(gen_spec._data.shape[1], emp_spec._data.shape[1])\n",
        "    gen_spec_data = gen_spec._data[:, :time_samples]\n",
        "    emp_spec_data = emp_spec._data[:, :time_samples]\n",
        "\n",
        "    # Calculates the mean PSD for both empirical and generated data\n",
        "    mean_gen_psd = np.mean(gen_spec_data, axis=0)\n",
        "    mean_emp_psd = np.mean(emp_spec_data, axis=0)\n",
        "\n",
        "    correlation_coefficient, _ = pearsonr(mean_gen_psd, mean_emp_psd)\n",
        "\n",
        "    # The closer the correlation is to 1 or -1, the smaller the loss\n",
        "    # So want to minimise loss\n",
        "    loss = (abs(correlation_coefficient) - 1) ** 2 # Penalises deviations from 1 or -1\n",
        "    return loss"
      ]
    },
    {
      "cell_type": "code",
      "execution_count": 10,
      "metadata": {
        "colab": {
          "base_uri": "https://localhost:8080/"
        },
        "id": "HJn-lWfDtBwp",
        "outputId": "79f971fa-ebe8-4319-ab47-e78252f3655f"
      },
      "outputs": [
        {
          "output_type": "stream",
          "name": "stdout",
          "text": [
            "146\n",
            "Creating RawArray with float64 data, n_channels=100, n_times=2000\n",
            "    Range : 0 ... 1999 =      0.000 ...     1.999 secs\n",
            "Ready.\n",
            "Effective window size : 2.000 (s)\n"
          ]
        },
        {
          "output_type": "stream",
          "name": "stderr",
          "text": [
            "[Parallel(n_jobs=-1)]: Using backend LokyBackend with 96 concurrent workers.\n",
            "[Parallel(n_jobs=-1)]: Done  21 out of  96 | elapsed:    6.8s remaining:   24.3s\n",
            "[Parallel(n_jobs=-1)]: Done  41 out of  96 | elapsed:    6.8s remaining:    9.1s\n",
            "[Parallel(n_jobs=-1)]: Done  61 out of  96 | elapsed:    6.8s remaining:    3.9s\n",
            "[Parallel(n_jobs=-1)]: Done  81 out of  96 | elapsed:    6.8s remaining:    1.3s\n",
            "[Parallel(n_jobs=-1)]: Done  96 out of  96 | elapsed:   11.0s finished\n"
          ]
        },
        {
          "output_type": "stream",
          "name": "stdout",
          "text": [
            "118\n",
            "Creating RawArray with float64 data, n_channels=100, n_times=2000\n",
            "    Range : 0 ... 1999 =      0.000 ...     1.999 secs\n",
            "Ready.\n",
            "Effective window size : 2.000 (s)\n"
          ]
        },
        {
          "output_type": "stream",
          "name": "stderr",
          "text": [
            "[Parallel(n_jobs=-1)]: Using backend LokyBackend with 96 concurrent workers.\n",
            "[Parallel(n_jobs=-1)]: Done  21 out of  96 | elapsed:    7.9s remaining:   28.1s\n",
            "[Parallel(n_jobs=-1)]: Done  41 out of  96 | elapsed:   19.9s remaining:   26.7s\n",
            "[Parallel(n_jobs=-1)]: Done  61 out of  96 | elapsed:   32.0s remaining:   18.4s\n",
            "[Parallel(n_jobs=-1)]: Done  81 out of  96 | elapsed:   44.0s remaining:    8.2s\n",
            "[Parallel(n_jobs=-1)]: Done  96 out of  96 | elapsed:   53.0s finished\n"
          ]
        },
        {
          "output_type": "stream",
          "name": "stdout",
          "text": [
            "113\n",
            "Creating RawArray with float64 data, n_channels=100, n_times=2000\n",
            "    Range : 0 ... 1999 =      0.000 ...     1.999 secs\n",
            "Ready.\n",
            "Effective window size : 2.000 (s)\n"
          ]
        },
        {
          "output_type": "stream",
          "name": "stderr",
          "text": [
            "[Parallel(n_jobs=-1)]: Using backend LokyBackend with 96 concurrent workers.\n",
            "[Parallel(n_jobs=-1)]: Done  21 out of  96 | elapsed:    0.0s remaining:    0.1s\n",
            "[Parallel(n_jobs=-1)]: Done  41 out of  96 | elapsed:    0.0s remaining:    0.1s\n",
            "[Parallel(n_jobs=-1)]: Done  61 out of  96 | elapsed:    0.0s remaining:    0.0s\n",
            "[Parallel(n_jobs=-1)]: Done  81 out of  96 | elapsed:    0.1s remaining:    0.0s\n",
            "[Parallel(n_jobs=-1)]: Done  96 out of  96 | elapsed:    2.2s finished\n"
          ]
        },
        {
          "output_type": "stream",
          "name": "stdout",
          "text": [
            "104\n",
            "Creating RawArray with float64 data, n_channels=100, n_times=2000\n",
            "    Range : 0 ... 1999 =      0.000 ...     1.999 secs\n",
            "Ready.\n",
            "Effective window size : 2.000 (s)\n"
          ]
        },
        {
          "output_type": "stream",
          "name": "stderr",
          "text": [
            "[Parallel(n_jobs=-1)]: Using backend LokyBackend with 96 concurrent workers.\n",
            "[Parallel(n_jobs=-1)]: Done  21 out of  96 | elapsed:    0.0s remaining:    0.1s\n",
            "[Parallel(n_jobs=-1)]: Done  41 out of  96 | elapsed:    0.0s remaining:    0.0s\n",
            "[Parallel(n_jobs=-1)]: Done  61 out of  96 | elapsed:    0.0s remaining:    0.0s\n",
            "[Parallel(n_jobs=-1)]: Done  81 out of  96 | elapsed:    0.1s remaining:    0.0s\n",
            "[Parallel(n_jobs=-1)]: Done  96 out of  96 | elapsed:    0.1s finished\n"
          ]
        },
        {
          "output_type": "stream",
          "name": "stdout",
          "text": [
            "92\n",
            "Creating RawArray with float64 data, n_channels=100, n_times=2000\n",
            "    Range : 0 ... 1999 =      0.000 ...     1.999 secs\n",
            "Ready.\n",
            "Effective window size : 2.000 (s)\n"
          ]
        },
        {
          "output_type": "stream",
          "name": "stderr",
          "text": [
            "[Parallel(n_jobs=-1)]: Using backend LokyBackend with 96 concurrent workers.\n",
            "[Parallel(n_jobs=-1)]: Done  21 out of  96 | elapsed:    0.0s remaining:    0.1s\n",
            "[Parallel(n_jobs=-1)]: Done  41 out of  96 | elapsed:    0.0s remaining:    0.0s\n",
            "[Parallel(n_jobs=-1)]: Done  61 out of  96 | elapsed:    0.1s remaining:    0.0s\n",
            "[Parallel(n_jobs=-1)]: Done  81 out of  96 | elapsed:    0.1s remaining:    0.0s\n",
            "[Parallel(n_jobs=-1)]: Done  96 out of  96 | elapsed:    0.1s finished\n"
          ]
        },
        {
          "output_type": "stream",
          "name": "stdout",
          "text": [
            "141\n",
            "Creating RawArray with float64 data, n_channels=100, n_times=2000\n",
            "    Range : 0 ... 1999 =      0.000 ...     1.999 secs\n",
            "Ready.\n",
            "Effective window size : 2.000 (s)\n"
          ]
        },
        {
          "output_type": "stream",
          "name": "stderr",
          "text": [
            "[Parallel(n_jobs=-1)]: Using backend LokyBackend with 96 concurrent workers.\n",
            "[Parallel(n_jobs=-1)]: Done  21 out of  96 | elapsed:    0.0s remaining:    0.1s\n",
            "[Parallel(n_jobs=-1)]: Done  41 out of  96 | elapsed:    0.0s remaining:    0.1s\n",
            "[Parallel(n_jobs=-1)]: Done  61 out of  96 | elapsed:    0.1s remaining:    0.0s\n",
            "[Parallel(n_jobs=-1)]: Done  81 out of  96 | elapsed:    0.1s remaining:    0.0s\n",
            "[Parallel(n_jobs=-1)]: Done  96 out of  96 | elapsed:    0.1s finished\n"
          ]
        },
        {
          "output_type": "stream",
          "name": "stdout",
          "text": [
            "84\n",
            "Creating RawArray with float64 data, n_channels=100, n_times=2000\n",
            "    Range : 0 ... 1999 =      0.000 ...     1.999 secs\n",
            "Ready.\n",
            "Effective window size : 2.000 (s)\n"
          ]
        },
        {
          "output_type": "stream",
          "name": "stderr",
          "text": [
            "[Parallel(n_jobs=-1)]: Using backend LokyBackend with 96 concurrent workers.\n",
            "[Parallel(n_jobs=-1)]: Done  21 out of  96 | elapsed:    0.0s remaining:    0.1s\n",
            "[Parallel(n_jobs=-1)]: Done  41 out of  96 | elapsed:    0.0s remaining:    0.0s\n",
            "[Parallel(n_jobs=-1)]: Done  61 out of  96 | elapsed:    0.0s remaining:    0.0s\n",
            "[Parallel(n_jobs=-1)]: Done  81 out of  96 | elapsed:    0.1s remaining:    0.0s\n",
            "[Parallel(n_jobs=-1)]: Done  96 out of  96 | elapsed:    0.1s finished\n"
          ]
        },
        {
          "output_type": "stream",
          "name": "stdout",
          "text": [
            "101\n",
            "Creating RawArray with float64 data, n_channels=100, n_times=2000\n",
            "    Range : 0 ... 1999 =      0.000 ...     1.999 secs\n",
            "Ready.\n",
            "Effective window size : 2.000 (s)\n"
          ]
        },
        {
          "output_type": "stream",
          "name": "stderr",
          "text": [
            "[Parallel(n_jobs=-1)]: Using backend LokyBackend with 96 concurrent workers.\n",
            "[Parallel(n_jobs=-1)]: Done   1 out of   1 | elapsed:    0.1s finished\n",
            "[Parallel(n_jobs=-1)]: Done  21 out of  96 | elapsed:    0.1s remaining:    0.4s\n",
            "[Parallel(n_jobs=-1)]: Done  41 out of  96 | elapsed:    0.1s remaining:    0.2s\n",
            "[Parallel(n_jobs=-1)]: Done  61 out of  96 | elapsed:    0.1s remaining:    0.1s\n",
            "[Parallel(n_jobs=-1)]: Done  81 out of  96 | elapsed:    0.1s remaining:    0.0s\n",
            "[Parallel(n_jobs=-1)]: Done  96 out of  96 | elapsed:    0.1s finished\n"
          ]
        },
        {
          "output_type": "stream",
          "name": "stdout",
          "text": [
            "86\n",
            "Creating RawArray with float64 data, n_channels=100, n_times=2000\n",
            "    Range : 0 ... 1999 =      0.000 ...     1.999 secs\n",
            "Ready.\n",
            "Effective window size : 2.000 (s)\n"
          ]
        },
        {
          "output_type": "stream",
          "name": "stderr",
          "text": [
            "[Parallel(n_jobs=-1)]: Using backend LokyBackend with 96 concurrent workers.\n",
            "[Parallel(n_jobs=-1)]: Done  21 out of  96 | elapsed:    0.0s remaining:    0.1s\n",
            "[Parallel(n_jobs=-1)]: Done  41 out of  96 | elapsed:    0.0s remaining:    0.0s\n",
            "[Parallel(n_jobs=-1)]: Done  61 out of  96 | elapsed:    0.0s remaining:    0.0s\n",
            "[Parallel(n_jobs=-1)]: Done  81 out of  96 | elapsed:    0.1s remaining:    0.0s\n",
            "[Parallel(n_jobs=-1)]: Done  96 out of  96 | elapsed:    1.7s finished\n"
          ]
        },
        {
          "output_type": "stream",
          "name": "stdout",
          "text": [
            "97\n",
            "Creating RawArray with float64 data, n_channels=100, n_times=2000\n",
            "    Range : 0 ... 1999 =      0.000 ...     1.999 secs\n",
            "Ready.\n",
            "Effective window size : 2.000 (s)\n"
          ]
        },
        {
          "output_type": "stream",
          "name": "stderr",
          "text": [
            "[Parallel(n_jobs=-1)]: Using backend LokyBackend with 96 concurrent workers.\n",
            "[Parallel(n_jobs=-1)]: Done  21 out of  96 | elapsed:    0.0s remaining:    0.1s\n",
            "[Parallel(n_jobs=-1)]: Done  41 out of  96 | elapsed:    0.0s remaining:    0.1s\n",
            "[Parallel(n_jobs=-1)]: Done  61 out of  96 | elapsed:    0.1s remaining:    0.0s\n",
            "[Parallel(n_jobs=-1)]: Done  81 out of  96 | elapsed:    0.1s remaining:    0.0s\n",
            "[Parallel(n_jobs=-1)]: Done  96 out of  96 | elapsed:    0.1s finished\n"
          ]
        },
        {
          "output_type": "stream",
          "name": "stdout",
          "text": [
            "126\n",
            "Creating RawArray with float64 data, n_channels=100, n_times=2000\n",
            "    Range : 0 ... 1999 =      0.000 ...     1.999 secs\n",
            "Ready.\n",
            "Effective window size : 2.000 (s)\n"
          ]
        },
        {
          "output_type": "stream",
          "name": "stderr",
          "text": [
            "[Parallel(n_jobs=-1)]: Using backend LokyBackend with 96 concurrent workers.\n",
            "[Parallel(n_jobs=-1)]: Done  21 out of  96 | elapsed:    7.3s remaining:   26.0s\n",
            "[Parallel(n_jobs=-1)]: Done  41 out of  96 | elapsed:    7.3s remaining:    9.8s\n",
            "[Parallel(n_jobs=-1)]: Done  61 out of  96 | elapsed:    7.3s remaining:    4.2s\n",
            "[Parallel(n_jobs=-1)]: Done  81 out of  96 | elapsed:    7.3s remaining:    1.4s\n",
            "[Parallel(n_jobs=-1)]: Done  96 out of  96 | elapsed:   12.7s finished\n"
          ]
        },
        {
          "output_type": "stream",
          "name": "stdout",
          "text": [
            "117\n",
            "Creating RawArray with float64 data, n_channels=100, n_times=2000\n",
            "    Range : 0 ... 1999 =      0.000 ...     1.999 secs\n",
            "Ready.\n",
            "Effective window size : 2.000 (s)\n"
          ]
        },
        {
          "output_type": "stream",
          "name": "stderr",
          "text": [
            "[Parallel(n_jobs=-1)]: Using backend LokyBackend with 96 concurrent workers.\n",
            "[Parallel(n_jobs=-1)]: Done  21 out of  96 | elapsed:    7.0s remaining:   25.1s\n",
            "[Parallel(n_jobs=-1)]: Done  41 out of  96 | elapsed:    7.0s remaining:    9.4s\n",
            "[Parallel(n_jobs=-1)]: Done  61 out of  96 | elapsed:    7.1s remaining:    4.0s\n",
            "[Parallel(n_jobs=-1)]: Done  81 out of  96 | elapsed:    7.1s remaining:    1.3s\n",
            "[Parallel(n_jobs=-1)]: Done  96 out of  96 | elapsed:   11.2s finished\n"
          ]
        },
        {
          "output_type": "stream",
          "name": "stdout",
          "text": [
            "106\n",
            "Creating RawArray with float64 data, n_channels=100, n_times=2000\n",
            "    Range : 0 ... 1999 =      0.000 ...     1.999 secs\n",
            "Ready.\n",
            "Effective window size : 2.000 (s)\n"
          ]
        },
        {
          "output_type": "stream",
          "name": "stderr",
          "text": [
            "[Parallel(n_jobs=-1)]: Using backend LokyBackend with 96 concurrent workers.\n",
            "[Parallel(n_jobs=-1)]: Done  21 out of  96 | elapsed:    7.1s remaining:   25.2s\n",
            "[Parallel(n_jobs=-1)]: Done  41 out of  96 | elapsed:    7.1s remaining:    9.5s\n",
            "[Parallel(n_jobs=-1)]: Done  61 out of  96 | elapsed:    7.1s remaining:    4.1s\n",
            "[Parallel(n_jobs=-1)]: Done  81 out of  96 | elapsed:    7.1s remaining:    1.3s\n",
            "[Parallel(n_jobs=-1)]: Done  96 out of  96 | elapsed:   11.3s finished\n"
          ]
        },
        {
          "output_type": "stream",
          "name": "stdout",
          "text": [
            "115\n",
            "Creating RawArray with float64 data, n_channels=100, n_times=2000\n",
            "    Range : 0 ... 1999 =      0.000 ...     1.999 secs\n",
            "Ready.\n",
            "Effective window size : 2.000 (s)\n"
          ]
        },
        {
          "output_type": "stream",
          "name": "stderr",
          "text": [
            "[Parallel(n_jobs=-1)]: Using backend LokyBackend with 96 concurrent workers.\n",
            "[Parallel(n_jobs=-1)]: Done  21 out of  96 | elapsed:    7.2s remaining:   25.8s\n",
            "[Parallel(n_jobs=-1)]: Done  41 out of  96 | elapsed:    7.2s remaining:    9.7s\n",
            "[Parallel(n_jobs=-1)]: Done  61 out of  96 | elapsed:    7.2s remaining:    4.2s\n",
            "[Parallel(n_jobs=-1)]: Done  81 out of  96 | elapsed:    7.3s remaining:    1.3s\n",
            "[Parallel(n_jobs=-1)]: Done  96 out of  96 | elapsed:   13.8s finished\n"
          ]
        },
        {
          "output_type": "stream",
          "name": "stdout",
          "text": [
            "175\n",
            "Creating RawArray with float64 data, n_channels=100, n_times=2000\n",
            "    Range : 0 ... 1999 =      0.000 ...     1.999 secs\n",
            "Ready.\n",
            "Effective window size : 2.000 (s)\n"
          ]
        },
        {
          "output_type": "stream",
          "name": "stderr",
          "text": [
            "[Parallel(n_jobs=-1)]: Using backend LokyBackend with 96 concurrent workers.\n",
            "[Parallel(n_jobs=-1)]: Done  21 out of  96 | elapsed:    7.2s remaining:   25.6s\n",
            "[Parallel(n_jobs=-1)]: Done  41 out of  96 | elapsed:    7.2s remaining:    9.6s\n",
            "[Parallel(n_jobs=-1)]: Done  61 out of  96 | elapsed:    7.2s remaining:    4.1s\n",
            "[Parallel(n_jobs=-1)]: Done  81 out of  96 | elapsed:    7.2s remaining:    1.3s\n",
            "[Parallel(n_jobs=-1)]: Done  96 out of  96 | elapsed:   10.7s finished\n"
          ]
        },
        {
          "output_type": "stream",
          "name": "stdout",
          "text": [
            "112\n",
            "Creating RawArray with float64 data, n_channels=100, n_times=2000\n",
            "    Range : 0 ... 1999 =      0.000 ...     1.999 secs\n",
            "Ready.\n",
            "Effective window size : 2.000 (s)\n"
          ]
        },
        {
          "output_type": "stream",
          "name": "stderr",
          "text": [
            "[Parallel(n_jobs=-1)]: Using backend LokyBackend with 96 concurrent workers.\n",
            "[Parallel(n_jobs=-1)]: Done  21 out of  96 | elapsed:    7.0s remaining:   25.1s\n",
            "[Parallel(n_jobs=-1)]: Done  41 out of  96 | elapsed:    7.1s remaining:    9.5s\n",
            "[Parallel(n_jobs=-1)]: Done  61 out of  96 | elapsed:    7.1s remaining:    4.1s\n",
            "[Parallel(n_jobs=-1)]: Done  81 out of  96 | elapsed:    7.1s remaining:    1.3s\n",
            "[Parallel(n_jobs=-1)]: Done  96 out of  96 | elapsed:   11.9s finished\n"
          ]
        },
        {
          "output_type": "stream",
          "name": "stdout",
          "text": [
            "119\n",
            "Creating RawArray with float64 data, n_channels=100, n_times=2000\n",
            "    Range : 0 ... 1999 =      0.000 ...     1.999 secs\n",
            "Ready.\n",
            "Effective window size : 2.000 (s)\n"
          ]
        },
        {
          "output_type": "stream",
          "name": "stderr",
          "text": [
            "[Parallel(n_jobs=-1)]: Using backend LokyBackend with 96 concurrent workers.\n",
            "[Parallel(n_jobs=-1)]: Done  21 out of  96 | elapsed:    7.3s remaining:   26.2s\n",
            "[Parallel(n_jobs=-1)]: Done  41 out of  96 | elapsed:    7.3s remaining:    9.9s\n",
            "[Parallel(n_jobs=-1)]: Done  61 out of  96 | elapsed:    7.4s remaining:    4.2s\n",
            "[Parallel(n_jobs=-1)]: Done  81 out of  96 | elapsed:    7.4s remaining:    1.4s\n",
            "[Parallel(n_jobs=-1)]: Done  96 out of  96 | elapsed:   11.6s finished\n"
          ]
        },
        {
          "output_type": "stream",
          "name": "stdout",
          "text": [
            "103\n",
            "Creating RawArray with float64 data, n_channels=100, n_times=2000\n",
            "    Range : 0 ... 1999 =      0.000 ...     1.999 secs\n",
            "Ready.\n",
            "Effective window size : 2.000 (s)\n"
          ]
        },
        {
          "output_type": "stream",
          "name": "stderr",
          "text": [
            "[Parallel(n_jobs=-1)]: Using backend LokyBackend with 96 concurrent workers.\n",
            "[Parallel(n_jobs=-1)]: Done  21 out of  96 | elapsed:    7.2s remaining:   25.6s\n",
            "[Parallel(n_jobs=-1)]: Done  41 out of  96 | elapsed:    7.2s remaining:    9.6s\n",
            "[Parallel(n_jobs=-1)]: Done  61 out of  96 | elapsed:    7.2s remaining:    4.1s\n",
            "[Parallel(n_jobs=-1)]: Done  81 out of  96 | elapsed:    7.2s remaining:    1.3s\n",
            "[Parallel(n_jobs=-1)]: Done  96 out of  96 | elapsed:   13.1s finished\n"
          ]
        },
        {
          "output_type": "stream",
          "name": "stdout",
          "text": [
            "143\n",
            "Creating RawArray with float64 data, n_channels=100, n_times=2000\n",
            "    Range : 0 ... 1999 =      0.000 ...     1.999 secs\n",
            "Ready.\n",
            "Effective window size : 2.000 (s)\n"
          ]
        },
        {
          "output_type": "stream",
          "name": "stderr",
          "text": [
            "[Parallel(n_jobs=-1)]: Using backend LokyBackend with 96 concurrent workers.\n",
            "[Parallel(n_jobs=-1)]: Done  21 out of  96 | elapsed:    7.0s remaining:   25.1s\n",
            "[Parallel(n_jobs=-1)]: Done  41 out of  96 | elapsed:    7.1s remaining:    9.5s\n",
            "[Parallel(n_jobs=-1)]: Done  61 out of  96 | elapsed:    7.1s remaining:    4.1s\n",
            "[Parallel(n_jobs=-1)]: Done  81 out of  96 | elapsed:    7.1s remaining:    1.3s\n",
            "[Parallel(n_jobs=-1)]: Done  96 out of  96 | elapsed:   10.7s finished\n"
          ]
        },
        {
          "output_type": "stream",
          "name": "stdout",
          "text": [
            "121\n",
            "Creating RawArray with float64 data, n_channels=100, n_times=2000\n",
            "    Range : 0 ... 1999 =      0.000 ...     1.999 secs\n",
            "Ready.\n",
            "Effective window size : 2.000 (s)\n"
          ]
        },
        {
          "output_type": "stream",
          "name": "stderr",
          "text": [
            "[Parallel(n_jobs=-1)]: Using backend LokyBackend with 96 concurrent workers.\n",
            "[Parallel(n_jobs=-1)]: Done  21 out of  96 | elapsed:    7.6s remaining:   27.0s\n",
            "[Parallel(n_jobs=-1)]: Done  41 out of  96 | elapsed:    7.6s remaining:   10.2s\n",
            "[Parallel(n_jobs=-1)]: Done  61 out of  96 | elapsed:    7.6s remaining:    4.4s\n",
            "[Parallel(n_jobs=-1)]: Done  81 out of  96 | elapsed:    7.6s remaining:    1.4s\n",
            "[Parallel(n_jobs=-1)]: Done  96 out of  96 | elapsed:   13.6s finished\n"
          ]
        },
        {
          "output_type": "stream",
          "name": "stdout",
          "text": [
            "x*=118.00 f(x*)=0.05\n"
          ]
        }
      ],
      "source": [
        "from skopt import gp_minimize\n",
        "np.random.seed(123)\n",
        "res = gp_minimize(find_eeg_loss, [(75, 175)], n_calls=20, n_jobs=-1, acq_optimizer='lbfgs')\n",
        "print(\"x*=%.2f f(x*)=%.2f\" % (res.x[0], res.fun))"
      ]
    },
    {
      "cell_type": "code",
      "source": [
        "import skopt.plots as skplt\n",
        "skplt.plot_objective(res)\n",
        "plt.show()"
      ],
      "metadata": {
        "colab": {
          "base_uri": "https://localhost:8080/",
          "height": 239
        },
        "id": "x2wXkWaqDvD9",
        "outputId": "bd89dbd9-7102-4136-87b2-2ff706100311"
      },
      "execution_count": 14,
      "outputs": [
        {
          "output_type": "display_data",
          "data": {
            "text/plain": [
              "<Figure size 200x200 with 2 Axes>"
            ],
            "image/png": "[encoded data removed]"
          },
          "metadata": {}
        }
      ]
    },
    {
      "cell_type": "code",
      "source": [
        "import multiprocessing\n",
        "\n",
        "num_runs = 5\n",
        "n_calls = 10\n",
        "\n",
        "def run_optimization(random_seed):\n",
        "    random_seed = np.random.seed(random_seed)\n",
        "    return gp_minimize(find_eeg_loss, [(100, 150)], n_calls=n_calls, n_jobs=-1, acq_optimizer='lbfgs', random_state=random_seed)\n",
        "\n",
        "# Run optimizations in parallel\n",
        "pool = multiprocessing.Pool(processes=num_runs)\n",
        "all_results = pool.map(run_optimization, range(num_runs))\n",
        "pool.close()\n",
        "pool.join()"
      ],
      "metadata": {
        "colab": {
          "base_uri": "https://localhost:8080/",
          "height": 1000
        },
        "collapsed": true,
        "id": "ED4NjOUEFW14",
        "outputId": "42b158d2-9a29-479d-8a0b-be70d14c382f"
      },
      "execution_count": 18,
      "outputs": [
        {
          "metadata": {
            "tags": null
          },
          "name": "stdout",
          "output_type": "stream",
          "text": [
            "109130104150145\n",
            "\n",
            "\n",
            "\n",
            "\n",
            "Creating RawArray with float64 data, n_channels=100, n_times=2000\n",
            "    Range : 0 ... 1999 =      0.000 ...     1.999 secs\n",
            "Ready.\n",
            "Effective window size : 2.000 (s)\n"
          ]
        },
        {
          "metadata": {
            "tags": null
          },
          "name": "stderr",
          "output_type": "stream",
          "text": [
            "/usr/local/lib/python3.10/dist-packages/joblib/parallel.py:1359: UserWarning: Loky-backed parallel loops cannot be called in a multiprocessing, setting n_jobs=1\n",
            "  n_jobs = self._backend.configure(n_jobs=self.n_jobs, parallel=self,\n",
            "[Parallel(n_jobs=-1)]: Done  17 tasks      | elapsed:    0.0s\n",
            "[Parallel(n_jobs=-1)]: Done  71 tasks      | elapsed:    0.1s\n"
          ]
        },
        {
          "metadata": {
            "tags": null
          },
          "name": "stdout",
          "output_type": "stream",
          "text": [
            "104\n",
            "Creating RawArray with float64 data, n_channels=100, n_times=2000\n",
            "    Range : 0 ... 1999 =      0.000 ...     1.999 secs\n",
            "Ready.\n",
            "Effective window size : 2.000 (s)\n"
          ]
        },
        {
          "metadata": {
            "tags": null
          },
          "name": "stderr",
          "output_type": "stream",
          "text": [
            "/usr/local/lib/python3.10/dist-packages/joblib/parallel.py:1359: UserWarning: Loky-backed parallel loops cannot be called in a multiprocessing, setting n_jobs=1\n",
            "  n_jobs = self._backend.configure(n_jobs=self.n_jobs, parallel=self,\n",
            "[Parallel(n_jobs=-1)]: Done  17 tasks      | elapsed:    0.0s\n",
            "[Parallel(n_jobs=-1)]: Done  71 tasks      | elapsed:    0.1s\n"
          ]
        },
        {
          "metadata": {
            "tags": null
          },
          "name": "stdout",
          "output_type": "stream",
          "text": [
            "113\n",
            "Creating RawArray with float64 data, n_channels=100, n_times=2000\n",
            "    Range : 0 ... 1999 =      0.000 ...     1.999 secs\n",
            "Ready.\n",
            "Effective window size : 2.000 (s)\n"
          ]
        },
        {
          "metadata": {
            "tags": null
          },
          "name": "stderr",
          "output_type": "stream",
          "text": [
            "/usr/local/lib/python3.10/dist-packages/joblib/parallel.py:1359: UserWarning: Loky-backed parallel loops cannot be called in a multiprocessing, setting n_jobs=1\n",
            "  n_jobs = self._backend.configure(n_jobs=self.n_jobs, parallel=self,\n",
            "[Parallel(n_jobs=-1)]: Done  17 tasks      | elapsed:    0.0s\n",
            "[Parallel(n_jobs=-1)]: Done  71 tasks      | elapsed:    0.1s\n"
          ]
        },
        {
          "metadata": {
            "tags": null
          },
          "name": "stdout",
          "output_type": "stream",
          "text": [
            "136\n",
            "Creating RawArray with float64 data, n_channels=100, n_times=2000\n",
            "    Range : 0 ... 1999 =      0.000 ...     1.999 secs\n",
            "Ready.\n",
            "Effective window size : 2.000 (s)\n"
          ]
        },
        {
          "metadata": {
            "tags": null
          },
          "name": "stderr",
          "output_type": "stream",
          "text": [
            "/usr/local/lib/python3.10/dist-packages/joblib/parallel.py:1359: UserWarning: Loky-backed parallel loops cannot be called in a multiprocessing, setting n_jobs=1\n",
            "  n_jobs = self._backend.configure(n_jobs=self.n_jobs, parallel=self,\n",
            "[Parallel(n_jobs=-1)]: Done  17 tasks      | elapsed:    0.0s\n",
            "[Parallel(n_jobs=-1)]: Done  71 tasks      | elapsed:    0.1s\n"
          ]
        },
        {
          "metadata": {
            "tags": null
          },
          "name": "stdout",
          "output_type": "stream",
          "text": [
            "Creating RawArray with float64 data, n_channels=100, n_times=2000\n",
            "    Range : 0 ... 1999 =      0.000 ...     1.999 secs\n",
            "Ready.\n",
            "Effective window size : 2.000 (s)\n"
          ]
        },
        {
          "metadata": {
            "tags": null
          },
          "name": "stderr",
          "output_type": "stream",
          "text": [
            "/usr/local/lib/python3.10/dist-packages/joblib/parallel.py:1359: UserWarning: Loky-backed parallel loops cannot be called in a multiprocessing, setting n_jobs=1\n",
            "  n_jobs = self._backend.configure(n_jobs=self.n_jobs, parallel=self,\n",
            "[Parallel(n_jobs=-1)]: Done  17 tasks      | elapsed:    0.0s\n",
            "[Parallel(n_jobs=-1)]: Done  71 tasks      | elapsed:    0.1s\n"
          ]
        },
        {
          "metadata": {
            "tags": null
          },
          "name": "stdout",
          "output_type": "stream",
          "text": [
            "113\n",
            "127\n",
            "Creating RawArray with float64 data, n_channels=100, n_times=2000\n",
            "    Range : 0 ... 1999 =      0.000 ...     1.999 secs\n",
            "Ready.\n",
            "Effective window size : 2.000 (s)\n"
          ]
        },
        {
          "metadata": {
            "tags": null
          },
          "name": "stderr",
          "output_type": "stream",
          "text": [
            "[Parallel(n_jobs=-1)]: Done  17 tasks      | elapsed:    0.0s\n",
            "[Parallel(n_jobs=-1)]: Done  71 tasks      | elapsed:    0.1s\n"
          ]
        },
        {
          "metadata": {
            "tags": null
          },
          "name": "stdout",
          "output_type": "stream",
          "text": [
            "124\n",
            "Creating RawArray with float64 data, n_channels=100, n_times=2000\n",
            "    Range : 0 ... 1999 =      0.000 ...     1.999 secs\n",
            "Ready.\n",
            "Effective window size : 2.000 (s)\n"
          ]
        },
        {
          "metadata": {
            "tags": null
          },
          "name": "stderr",
          "output_type": "stream",
          "text": [
            "[Parallel(n_jobs=-1)]: Done  17 tasks      | elapsed:    0.0s\n",
            "[Parallel(n_jobs=-1)]: Done  71 tasks      | elapsed:    0.1s\n"
          ]
        },
        {
          "metadata": {
            "tags": null
          },
          "name": "stdout",
          "output_type": "stream",
          "text": [
            "128\n",
            "Creating RawArray with float64 data, n_channels=100, n_times=2000\n",
            "    Range : 0 ... 1999 =      0.000 ...     1.999 secs\n",
            "Ready.\n",
            "Effective window size : 2.000 (s)\n"
          ]
        },
        {
          "metadata": {
            "tags": null
          },
          "name": "stderr",
          "output_type": "stream",
          "text": [
            "[Parallel(n_jobs=-1)]: Done  17 tasks      | elapsed:    0.0s\n",
            "[Parallel(n_jobs=-1)]: Done  71 tasks      | elapsed:    0.1s\n"
          ]
        },
        {
          "metadata": {
            "tags": null
          },
          "name": "stdout",
          "output_type": "stream",
          "text": [
            "114\n",
            "Creating RawArray with float64 data, n_channels=100, n_times=2000\n",
            "    Range : 0 ... 1999 =      0.000 ...     1.999 secs\n",
            "Ready.\n",
            "Effective window size : 2.000 (s)\n"
          ]
        },
        {
          "metadata": {
            "tags": null
          },
          "name": "stderr",
          "output_type": "stream",
          "text": [
            "[Parallel(n_jobs=-1)]: Done  17 tasks      | elapsed:    0.0s\n",
            "[Parallel(n_jobs=-1)]: Done  71 tasks      | elapsed:    0.1s\n"
          ]
        },
        {
          "metadata": {
            "tags": null
          },
          "name": "stdout",
          "output_type": "stream",
          "text": [
            "125\n",
            "Creating RawArray with float64 data, n_channels=100, n_times=2000\n",
            "    Range : 0 ... 1999 =      0.000 ...     1.999 secs\n",
            "Ready.\n",
            "Effective window size : 2.000 (s)\n"
          ]
        },
        {
          "metadata": {
            "tags": null
          },
          "name": "stderr",
          "output_type": "stream",
          "text": [
            "[Parallel(n_jobs=-1)]: Done  17 tasks      | elapsed:    0.0s\n",
            "[Parallel(n_jobs=-1)]: Done  71 tasks      | elapsed:    0.1s\n"
          ]
        },
        {
          "metadata": {
            "tags": null
          },
          "name": "stdout",
          "output_type": "stream",
          "text": [
            "146\n",
            "Creating RawArray with float64 data, n_channels=100, n_times=2000\n",
            "    Range : 0 ... 1999 =      0.000 ...     1.999 secs\n",
            "Ready.\n",
            "Effective window size : 2.000 (s)\n"
          ]
        },
        {
          "metadata": {
            "tags": null
          },
          "name": "stderr",
          "output_type": "stream",
          "text": [
            "[Parallel(n_jobs=-1)]: Done  17 tasks      | elapsed:    0.0s\n",
            "[Parallel(n_jobs=-1)]: Done  71 tasks      | elapsed:    0.1s\n"
          ]
        },
        {
          "metadata": {
            "tags": null
          },
          "name": "stdout",
          "output_type": "stream",
          "text": [
            "147\n",
            "Creating RawArray with float64 data, n_channels=100, n_times=2000\n",
            "    Range : 0 ... 1999 =      0.000 ...     1.999 secs\n",
            "Ready.\n",
            "Effective window size : 2.000 (s)\n"
          ]
        },
        {
          "metadata": {
            "tags": null
          },
          "name": "stderr",
          "output_type": "stream",
          "text": [
            "[Parallel(n_jobs=-1)]: Done  17 tasks      | elapsed:    0.0s\n",
            "[Parallel(n_jobs=-1)]: Done  71 tasks      | elapsed:    0.1s\n"
          ]
        },
        {
          "metadata": {
            "tags": null
          },
          "name": "stdout",
          "output_type": "stream",
          "text": [
            "104\n",
            "Creating RawArray with float64 data, n_channels=100, n_times=2000\n",
            "    Range : 0 ... 1999 =      0.000 ...     1.999 secs\n",
            "Ready.\n",
            "Effective window size : 2.000 (s)\n"
          ]
        },
        {
          "metadata": {
            "tags": null
          },
          "name": "stderr",
          "output_type": "stream",
          "text": [
            "[Parallel(n_jobs=-1)]: Done  17 tasks      | elapsed:    0.0s\n",
            "[Parallel(n_jobs=-1)]: Done  71 tasks      | elapsed:    0.1s\n"
          ]
        },
        {
          "metadata": {
            "tags": null
          },
          "name": "stdout",
          "output_type": "stream",
          "text": [
            "125\n",
            "Creating RawArray with float64 data, n_channels=100, n_times=2000\n",
            "    Range : 0 ... 1999 =      0.000 ...     1.999 secs\n",
            "Ready.\n",
            "Effective window size : 2.000 (s)\n"
          ]
        },
        {
          "metadata": {
            "tags": null
          },
          "name": "stderr",
          "output_type": "stream",
          "text": [
            "[Parallel(n_jobs=-1)]: Done  17 tasks      | elapsed:    0.0s\n",
            "[Parallel(n_jobs=-1)]: Done  71 tasks      | elapsed:    0.1s\n"
          ]
        },
        {
          "metadata": {
            "tags": null
          },
          "name": "stdout",
          "output_type": "stream",
          "text": [
            "141\n",
            "Creating RawArray with float64 data, n_channels=100, n_times=2000\n",
            "    Range : 0 ... 1999 =      0.000 ...     1.999 secs\n",
            "Ready.\n",
            "Effective window size : 2.000 (s)\n"
          ]
        },
        {
          "metadata": {
            "tags": null
          },
          "name": "stderr",
          "output_type": "stream",
          "text": [
            "[Parallel(n_jobs=-1)]: Done  17 tasks      | elapsed:    0.0s\n",
            "[Parallel(n_jobs=-1)]: Done  71 tasks      | elapsed:    0.1s\n"
          ]
        },
        {
          "metadata": {
            "tags": null
          },
          "name": "stdout",
          "output_type": "stream",
          "text": [
            "149\n",
            "Creating RawArray with float64 data, n_channels=100, n_times=2000\n",
            "    Range : 0 ... 1999 =      0.000 ...     1.999 secs\n",
            "Ready.\n",
            "Effective window size : 2.000 (s)\n"
          ]
        },
        {
          "metadata": {
            "tags": null
          },
          "name": "stderr",
          "output_type": "stream",
          "text": [
            "[Parallel(n_jobs=-1)]: Done  17 tasks      | elapsed:    0.0s\n",
            "[Parallel(n_jobs=-1)]: Done  71 tasks      | elapsed:    0.1s\n"
          ]
        },
        {
          "metadata": {
            "tags": null
          },
          "name": "stdout",
          "output_type": "stream",
          "text": [
            "109\n",
            "Creating RawArray with float64 data, n_channels=100, n_times=2000\n",
            "    Range : 0 ... 1999 =      0.000 ...     1.999 secs\n",
            "Ready.\n",
            "Effective window size : 2.000 (s)\n"
          ]
        },
        {
          "metadata": {
            "tags": null
          },
          "name": "stderr",
          "output_type": "stream",
          "text": [
            "[Parallel(n_jobs=-1)]: Done  17 tasks      | elapsed:    0.0s\n",
            "[Parallel(n_jobs=-1)]: Done  71 tasks      | elapsed:    0.1s\n"
          ]
        },
        {
          "metadata": {
            "tags": null
          },
          "name": "stdout",
          "output_type": "stream",
          "text": [
            "108\n",
            "Creating RawArray with float64 data, n_channels=100, n_times=2000\n",
            "    Range : 0 ... 1999 =      0.000 ...     1.999 secs\n",
            "Ready.\n",
            "Effective window size : 2.000 (s)\n"
          ]
        },
        {
          "metadata": {
            "tags": null
          },
          "name": "stderr",
          "output_type": "stream",
          "text": [
            "[Parallel(n_jobs=-1)]: Done  17 tasks      | elapsed:    0.0s\n",
            "[Parallel(n_jobs=-1)]: Done  71 tasks      | elapsed:    0.1s\n"
          ]
        },
        {
          "metadata": {
            "tags": null
          },
          "name": "stdout",
          "output_type": "stream",
          "text": [
            "116\n",
            "Creating RawArray with float64 data, n_channels=100, n_times=2000\n",
            "    Range : 0 ... 1999 =      0.000 ...     1.999 secs\n",
            "Ready.\n",
            "Effective window size : 2.000 (s)\n"
          ]
        },
        {
          "metadata": {
            "tags": null
          },
          "name": "stderr",
          "output_type": "stream",
          "text": [
            "[Parallel(n_jobs=-1)]: Done  17 tasks      | elapsed:    0.0s\n",
            "[Parallel(n_jobs=-1)]: Done  71 tasks      | elapsed:    0.1s\n"
          ]
        },
        {
          "metadata": {
            "tags": null
          },
          "name": "stdout",
          "output_type": "stream",
          "text": [
            "133\n",
            "Creating RawArray with float64 data, n_channels=100, n_times=2000\n",
            "    Range : 0 ... 1999 =      0.000 ...     1.999 secs\n",
            "Ready.\n",
            "Effective window size : 2.000 (s)\n"
          ]
        },
        {
          "metadata": {
            "tags": null
          },
          "name": "stderr",
          "output_type": "stream",
          "text": [
            "[Parallel(n_jobs=-1)]: Done  17 tasks      | elapsed:    0.0s\n",
            "[Parallel(n_jobs=-1)]: Done  71 tasks      | elapsed:    0.1s\n"
          ]
        },
        {
          "metadata": {
            "tags": null
          },
          "name": "stdout",
          "output_type": "stream",
          "text": [
            "132\n",
            "Creating RawArray with float64 data, n_channels=100, n_times=2000\n",
            "    Range : 0 ... 1999 =      0.000 ...     1.999 secs\n",
            "Ready.\n",
            "Effective window size : 2.000 (s)\n"
          ]
        },
        {
          "metadata": {
            "tags": null
          },
          "name": "stderr",
          "output_type": "stream",
          "text": [
            "[Parallel(n_jobs=-1)]: Done  17 tasks      | elapsed:    0.0s\n",
            "[Parallel(n_jobs=-1)]: Done  71 tasks      | elapsed:    0.1s\n"
          ]
        },
        {
          "metadata": {
            "tags": null
          },
          "name": "stdout",
          "output_type": "stream",
          "text": [
            "126\n",
            "Creating RawArray with float64 data, n_channels=100, n_times=2000\n",
            "    Range : 0 ... 1999 =      0.000 ...     1.999 secs\n",
            "Ready.\n",
            "Effective window size : 2.000 (s)\n"
          ]
        },
        {
          "metadata": {
            "tags": null
          },
          "name": "stderr",
          "output_type": "stream",
          "text": [
            "[Parallel(n_jobs=-1)]: Done  17 tasks      | elapsed:    0.0s\n",
            "[Parallel(n_jobs=-1)]: Done  71 tasks      | elapsed:    0.1s\n"
          ]
        },
        {
          "metadata": {
            "tags": null
          },
          "name": "stdout",
          "output_type": "stream",
          "text": [
            "142\n",
            "Creating RawArray with float64 data, n_channels=100, n_times=2000\n",
            "    Range : 0 ... 1999 =      0.000 ...     1.999 secs\n",
            "Ready.\n",
            "Effective window size : 2.000 (s)\n"
          ]
        },
        {
          "metadata": {
            "tags": null
          },
          "name": "stderr",
          "output_type": "stream",
          "text": [
            "[Parallel(n_jobs=-1)]: Done  17 tasks      | elapsed:    0.0s\n",
            "[Parallel(n_jobs=-1)]: Done  71 tasks      | elapsed:    0.1s\n"
          ]
        },
        {
          "metadata": {
            "tags": null
          },
          "name": "stdout",
          "output_type": "stream",
          "text": [
            "135\n",
            "Creating RawArray with float64 data, n_channels=100, n_times=2000\n",
            "    Range : 0 ... 1999 =      0.000 ...     1.999 secs\n",
            "Ready.\n",
            "Effective window size : 2.000 (s)\n"
          ]
        },
        {
          "metadata": {
            "tags": null
          },
          "name": "stderr",
          "output_type": "stream",
          "text": [
            "[Parallel(n_jobs=-1)]: Done  17 tasks      | elapsed:    0.0s\n",
            "[Parallel(n_jobs=-1)]: Done  71 tasks      | elapsed:    0.1s\n"
          ]
        },
        {
          "metadata": {
            "tags": null
          },
          "name": "stdout",
          "output_type": "stream",
          "text": [
            "127\n",
            "Creating RawArray with float64 data, n_channels=100, n_times=2000\n",
            "    Range : 0 ... 1999 =      0.000 ...     1.999 secs\n",
            "Ready.\n",
            "Effective window size : 2.000 (s)\n"
          ]
        },
        {
          "metadata": {
            "tags": null
          },
          "name": "stderr",
          "output_type": "stream",
          "text": [
            "[Parallel(n_jobs=-1)]: Done  17 tasks      | elapsed:    0.0s\n",
            "[Parallel(n_jobs=-1)]: Done  71 tasks      | elapsed:    0.1s\n"
          ]
        },
        {
          "metadata": {
            "tags": null
          },
          "name": "stdout",
          "output_type": "stream",
          "text": [
            "132\n",
            "Creating RawArray with float64 data, n_channels=100, n_times=2000\n",
            "    Range : 0 ... 1999 =      0.000 ...     1.999 secs\n",
            "Ready.\n",
            "Effective window size : 2.000 (s)\n"
          ]
        },
        {
          "metadata": {
            "tags": null
          },
          "name": "stderr",
          "output_type": "stream",
          "text": [
            "[Parallel(n_jobs=-1)]: Done  17 tasks      | elapsed:    0.0s\n",
            "[Parallel(n_jobs=-1)]: Done  71 tasks      | elapsed:    0.1s\n"
          ]
        },
        {
          "metadata": {
            "tags": null
          },
          "name": "stdout",
          "output_type": "stream",
          "text": [
            "116\n",
            "Creating RawArray with float64 data, n_channels=100, n_times=2000\n",
            "    Range : 0 ... 1999 =      0.000 ...     1.999 secs\n",
            "Ready.\n",
            "Effective window size : 2.000 (s)\n"
          ]
        },
        {
          "metadata": {
            "tags": null
          },
          "name": "stderr",
          "output_type": "stream",
          "text": [
            "[Parallel(n_jobs=-1)]: Done  17 tasks      | elapsed:    0.0s\n",
            "[Parallel(n_jobs=-1)]: Done  71 tasks      | elapsed:    0.1s\n"
          ]
        },
        {
          "metadata": {
            "tags": null
          },
          "name": "stdout",
          "output_type": "stream",
          "text": [
            "110\n",
            "Creating RawArray with float64 data, n_channels=100, n_times=2000\n",
            "    Range : 0 ... 1999 =      0.000 ...     1.999 secs\n",
            "Ready.\n",
            "Effective window size : 2.000 (s)\n"
          ]
        },
        {
          "metadata": {
            "tags": null
          },
          "name": "stderr",
          "output_type": "stream",
          "text": [
            "[Parallel(n_jobs=-1)]: Done  17 tasks      | elapsed:    0.0s\n",
            "[Parallel(n_jobs=-1)]: Done  71 tasks      | elapsed:    0.1s\n"
          ]
        },
        {
          "metadata": {
            "tags": null
          },
          "name": "stdout",
          "output_type": "stream",
          "text": [
            "108\n",
            "Creating RawArray with float64 data, n_channels=100, n_times=2000\n",
            "    Range : 0 ... 1999 =      0.000 ...     1.999 secs\n",
            "Ready.\n",
            "Effective window size : 2.000 (s)\n"
          ]
        },
        {
          "metadata": {
            "tags": null
          },
          "name": "stderr",
          "output_type": "stream",
          "text": [
            "[Parallel(n_jobs=-1)]: Done  17 tasks      | elapsed:    0.0s\n",
            "[Parallel(n_jobs=-1)]: Done  71 tasks      | elapsed:    0.1s\n"
          ]
        },
        {
          "metadata": {
            "tags": null
          },
          "name": "stdout",
          "output_type": "stream",
          "text": [
            "128\n",
            "Creating RawArray with float64 data, n_channels=100, n_times=2000\n",
            "    Range : 0 ... 1999 =      0.000 ...     1.999 secs\n",
            "Ready.\n",
            "Effective window size : 2.000 (s)\n"
          ]
        },
        {
          "metadata": {
            "tags": null
          },
          "name": "stderr",
          "output_type": "stream",
          "text": [
            "[Parallel(n_jobs=-1)]: Done  17 tasks      | elapsed:    0.0s\n",
            "[Parallel(n_jobs=-1)]: Done  71 tasks      | elapsed:    0.1s\n"
          ]
        },
        {
          "metadata": {
            "tags": null
          },
          "name": "stdout",
          "output_type": "stream",
          "text": [
            "127\n",
            "Creating RawArray with float64 data, n_channels=100, n_times=2000\n",
            "    Range : 0 ... 1999 =      0.000 ...     1.999 secs\n",
            "Ready.\n",
            "Effective window size : 2.000 (s)\n"
          ]
        },
        {
          "metadata": {
            "tags": null
          },
          "name": "stderr",
          "output_type": "stream",
          "text": [
            "[Parallel(n_jobs=-1)]: Done  17 tasks      | elapsed:    0.0s\n",
            "[Parallel(n_jobs=-1)]: Done  71 tasks      | elapsed:    0.1s\n"
          ]
        },
        {
          "metadata": {
            "tags": null
          },
          "name": "stdout",
          "output_type": "stream",
          "text": [
            "119\n",
            "Creating RawArray with float64 data, n_channels=100, n_times=2000\n",
            "    Range : 0 ... 1999 =      0.000 ...     1.999 secs\n",
            "Ready.\n",
            "Effective window size : 2.000 (s)\n"
          ]
        },
        {
          "metadata": {
            "tags": null
          },
          "name": "stderr",
          "output_type": "stream",
          "text": [
            "[Parallel(n_jobs=-1)]: Done  17 tasks      | elapsed:    0.0s\n",
            "[Parallel(n_jobs=-1)]: Done  71 tasks      | elapsed:    0.1s\n"
          ]
        },
        {
          "metadata": {
            "tags": null
          },
          "name": "stdout",
          "output_type": "stream",
          "text": [
            "106\n",
            "Creating RawArray with float64 data, n_channels=100, n_times=2000\n",
            "    Range : 0 ... 1999 =      0.000 ...     1.999 secs\n",
            "Ready.\n",
            "Effective window size : 2.000 (s)\n"
          ]
        },
        {
          "metadata": {
            "tags": null
          },
          "name": "stderr",
          "output_type": "stream",
          "text": [
            "[Parallel(n_jobs=-1)]: Done  17 tasks      | elapsed:    0.0s\n",
            "[Parallel(n_jobs=-1)]: Done  71 tasks      | elapsed:    0.1s\n"
          ]
        },
        {
          "metadata": {
            "tags": null
          },
          "name": "stdout",
          "output_type": "stream",
          "text": [
            "113\n",
            "Creating RawArray with float64 data, n_channels=100, n_times=2000\n",
            "    Range : 0 ... 1999 =      0.000 ...     1.999 secs\n",
            "Ready.\n",
            "Effective window size : 2.000 (s)\n"
          ]
        },
        {
          "metadata": {
            "tags": null
          },
          "name": "stderr",
          "output_type": "stream",
          "text": [
            "[Parallel(n_jobs=-1)]: Done  17 tasks      | elapsed:    0.0s\n",
            "[Parallel(n_jobs=-1)]: Done  71 tasks      | elapsed:    0.1s\n"
          ]
        },
        {
          "metadata": {
            "tags": null
          },
          "name": "stdout",
          "output_type": "stream",
          "text": [
            "140\n",
            "Creating RawArray with float64 data, n_channels=100, n_times=2000\n",
            "    Range : 0 ... 1999 =      0.000 ...     1.999 secs\n",
            "Ready.\n",
            "Effective window size : 2.000 (s)\n"
          ]
        },
        {
          "metadata": {
            "tags": null
          },
          "name": "stderr",
          "output_type": "stream",
          "text": [
            "[Parallel(n_jobs=-1)]: Done  17 tasks      | elapsed:    0.0s\n",
            "[Parallel(n_jobs=-1)]: Done  71 tasks      | elapsed:    0.1s\n"
          ]
        },
        {
          "metadata": {
            "tags": null
          },
          "name": "stdout",
          "output_type": "stream",
          "text": [
            "133\n",
            "Creating RawArray with float64 data, n_channels=100, n_times=2000\n",
            "    Range : 0 ... 1999 =      0.000 ...     1.999 secs\n",
            "Ready.\n",
            "Effective window size : 2.000 (s)\n"
          ]
        },
        {
          "metadata": {
            "tags": null
          },
          "name": "stderr",
          "output_type": "stream",
          "text": [
            "[Parallel(n_jobs=-1)]: Done  17 tasks      | elapsed:    0.0s\n",
            "[Parallel(n_jobs=-1)]: Done  71 tasks      | elapsed:    0.1s\n"
          ]
        },
        {
          "metadata": {
            "tags": null
          },
          "name": "stdout",
          "output_type": "stream",
          "text": [
            "108\n",
            "Creating RawArray with float64 data, n_channels=100, n_times=2000\n",
            "    Range : 0 ... 1999 =      0.000 ...     1.999 secs\n",
            "Ready.\n",
            "Effective window size : 2.000 (s)\n"
          ]
        },
        {
          "metadata": {
            "tags": null
          },
          "name": "stderr",
          "output_type": "stream",
          "text": [
            "[Parallel(n_jobs=-1)]: Done  17 tasks      | elapsed:    0.0s\n",
            "[Parallel(n_jobs=-1)]: Done  71 tasks      | elapsed:    0.1s\n"
          ]
        },
        {
          "metadata": {
            "tags": null
          },
          "name": "stdout",
          "output_type": "stream",
          "text": [
            "124\n",
            "Creating RawArray with float64 data, n_channels=100, n_times=2000\n",
            "    Range : 0 ... 1999 =      0.000 ...     1.999 secs\n",
            "Ready.\n",
            "Effective window size : 2.000 (s)\n"
          ]
        },
        {
          "metadata": {
            "tags": null
          },
          "name": "stderr",
          "output_type": "stream",
          "text": [
            "[Parallel(n_jobs=-1)]: Done  17 tasks      | elapsed:    0.0s\n",
            "[Parallel(n_jobs=-1)]: Done  71 tasks      | elapsed:    0.1s\n"
          ]
        },
        {
          "metadata": {
            "tags": null
          },
          "name": "stdout",
          "output_type": "stream",
          "text": [
            "109\n",
            "Creating RawArray with float64 data, n_channels=100, n_times=2000\n",
            "    Range : 0 ... 1999 =      0.000 ...     1.999 secs\n",
            "Ready.\n",
            "Effective window size : 2.000 (s)\n"
          ]
        },
        {
          "metadata": {
            "tags": null
          },
          "name": "stderr",
          "output_type": "stream",
          "text": [
            "[Parallel(n_jobs=-1)]: Done  17 tasks      | elapsed:    0.0s\n",
            "[Parallel(n_jobs=-1)]: Done  71 tasks      | elapsed:    0.1s\n"
          ]
        },
        {
          "metadata": {
            "tags": null
          },
          "name": "stdout",
          "output_type": "stream",
          "text": [
            "131\n",
            "Creating RawArray with float64 data, n_channels=100, n_times=2000\n",
            "    Range : 0 ... 1999 =      0.000 ...     1.999 secs\n",
            "Ready.\n",
            "Effective window size : 2.000 (s)\n"
          ]
        },
        {
          "metadata": {
            "tags": null
          },
          "name": "stderr",
          "output_type": "stream",
          "text": [
            "[Parallel(n_jobs=-1)]: Done  17 tasks      | elapsed:    0.0s\n",
            "[Parallel(n_jobs=-1)]: Done  71 tasks      | elapsed:    0.1s\n"
          ]
        },
        {
          "output_type": "stream",
          "name": "stdout",
          "text": [
            "131\n",
            "Creating RawArray with float64 data, n_channels=100, n_times=2000\n",
            "    Range : 0 ... 1999 =      0.000 ...     1.999 secs\n",
            "Ready.\n",
            "Effective window size : 2.000 (s)\n"
          ]
        },
        {
          "output_type": "stream",
          "name": "stderr",
          "text": [
            "[Parallel(n_jobs=-1)]: Done  17 tasks      | elapsed:    0.0s\n",
            "[Parallel(n_jobs=-1)]: Done  71 tasks      | elapsed:    0.1s\n"
          ]
        },
        {
          "output_type": "stream",
          "name": "stdout",
          "text": [
            "112\n",
            "Creating RawArray with float64 data, n_channels=100, n_times=2000\n",
            "    Range : 0 ... 1999 =      0.000 ...     1.999 secs\n",
            "Ready.\n",
            "Effective window size : 2.000 (s)\n"
          ]
        },
        {
          "output_type": "stream",
          "name": "stderr",
          "text": [
            "[Parallel(n_jobs=-1)]: Done  17 tasks      | elapsed:    0.0s\n",
            "[Parallel(n_jobs=-1)]: Done  71 tasks      | elapsed:    0.1s\n"
          ]
        },
        {
          "output_type": "stream",
          "name": "stdout",
          "text": [
            "129\n",
            "Creating RawArray with float64 data, n_channels=100, n_times=2000\n",
            "    Range : 0 ... 1999 =      0.000 ...     1.999 secs\n",
            "Ready.\n",
            "Effective window size : 2.000 (s)\n"
          ]
        },
        {
          "output_type": "stream",
          "name": "stderr",
          "text": [
            "[Parallel(n_jobs=-1)]: Done  17 tasks      | elapsed:    0.0s\n",
            "[Parallel(n_jobs=-1)]: Done  71 tasks      | elapsed:    0.1s\n"
          ]
        },
        {
          "output_type": "stream",
          "name": "stdout",
          "text": [
            "142\n",
            "Creating RawArray with float64 data, n_channels=100, n_times=2000\n",
            "    Range : 0 ... 1999 =      0.000 ...     1.999 secs\n",
            "Ready.\n",
            "Effective window size : 2.000 (s)\n"
          ]
        },
        {
          "output_type": "stream",
          "name": "stderr",
          "text": [
            "[Parallel(n_jobs=-1)]: Done  17 tasks      | elapsed:    0.0s\n",
            "[Parallel(n_jobs=-1)]: Done  71 tasks      | elapsed:    0.1s\n"
          ]
        },
        {
          "output_type": "stream",
          "name": "stdout",
          "text": [
            "136\n",
            "Creating RawArray with float64 data, n_channels=100, n_times=2000\n",
            "    Range : 0 ... 1999 =      0.000 ...     1.999 secs\n",
            "Ready.\n",
            "Effective window size : 2.000 (s)\n"
          ]
        },
        {
          "output_type": "stream",
          "name": "stderr",
          "text": [
            "[Parallel(n_jobs=-1)]: Done  17 tasks      | elapsed:    0.0s\n",
            "[Parallel(n_jobs=-1)]: Done  71 tasks      | elapsed:    0.1s\n"
          ]
        },
        {
          "output_type": "stream",
          "name": "stdout",
          "text": [
            "130\n",
            "Creating RawArray with float64 data, n_channels=100, n_times=2000\n",
            "    Range : 0 ... 1999 =      0.000 ...     1.999 secs\n",
            "Ready.\n",
            "Effective window size : 2.000 (s)\n"
          ]
        },
        {
          "output_type": "stream",
          "name": "stderr",
          "text": [
            "[Parallel(n_jobs=-1)]: Done  17 tasks      | elapsed:    0.0s\n",
            "[Parallel(n_jobs=-1)]: Done  71 tasks      | elapsed:    0.1s\n"
          ]
        },
        {
          "output_type": "stream",
          "name": "stdout",
          "text": [
            "Creating RawArray with float64 data, n_channels=100, n_times=2000\n",
            "    Range : 0 ... 1999 =      0.000 ...     1.999 secs\n",
            "Ready.\n",
            "Effective window size : 2.000 (s)\n"
          ]
        },
        {
          "output_type": "stream",
          "name": "stderr",
          "text": [
            "[Parallel(n_jobs=-1)]: Done  17 tasks      | elapsed:    0.0s\n",
            "[Parallel(n_jobs=-1)]: Done  71 tasks      | elapsed:    0.1s\n"
          ]
        },
        {
          "output_type": "stream",
          "name": "stdout",
          "text": [
            "Creating RawArray with float64 data, n_channels=100, n_times=2000\n",
            "    Range : 0 ... 1999 =      0.000 ...     1.999 secs\n",
            "Ready.\n",
            "Effective window size : 2.000 (s)\n"
          ]
        },
        {
          "output_type": "stream",
          "name": "stderr",
          "text": [
            "[Parallel(n_jobs=-1)]: Done  17 tasks      | elapsed:    0.0s\n",
            "[Parallel(n_jobs=-1)]: Done  71 tasks      | elapsed:    0.0s\n"
          ]
        },
        {
          "output_type": "stream",
          "name": "stdout",
          "text": [
            "Creating RawArray with float64 data, n_channels=100, n_times=2000\n",
            "    Range : 0 ... 1999 =      0.000 ...     1.999 secs\n",
            "Ready.\n",
            "Effective window size : 2.000 (s)\n"
          ]
        },
        {
          "output_type": "stream",
          "name": "stderr",
          "text": [
            "[Parallel(n_jobs=-1)]: Done  17 tasks      | elapsed:    0.0s\n",
            "[Parallel(n_jobs=-1)]: Done  71 tasks      | elapsed:    0.0s\n"
          ]
        },
        {
          "output_type": "stream",
          "name": "stdout",
          "text": [
            "Creating RawArray with float64 data, n_channels=100, n_times=2000\n",
            "    Range : 0 ... 1999 =      0.000 ...     1.999 secs\n",
            "Ready.\n",
            "Effective window size : 2.000 (s)\n"
          ]
        },
        {
          "output_type": "stream",
          "name": "stderr",
          "text": [
            "[Parallel(n_jobs=-1)]: Done  17 tasks      | elapsed:    0.0s\n",
            "[Parallel(n_jobs=-1)]: Done  71 tasks      | elapsed:    0.0s\n"
          ]
        },
        {
          "output_type": "error",
          "ename": "AttributeError",
          "evalue": "'list' object has no attribute 'space'",
          "traceback": [
            "\u001b[0;31m---------------------------------------------------------------------------\u001b[0m",
            "\u001b[0;31mAttributeError\u001b[0m                            Traceback (most recent call last)",
            "\u001b[0;32m<ipython-input-18-94b390783b2f>\u001b[0m in \u001b[0;36m<cell line: 19>\u001b[0;34m()\u001b[0m\n\u001b[1;32m     17\u001b[0m \u001b[0;34m\u001b[0m\u001b[0m\n\u001b[1;32m     18\u001b[0m \u001b[0;31m# Plot the objective function as a heatmap\u001b[0m\u001b[0;34m\u001b[0m\u001b[0;34m\u001b[0m\u001b[0m\n\u001b[0;32m---> 19\u001b[0;31m \u001b[0mskplt\u001b[0m\u001b[0;34m.\u001b[0m\u001b[0mplot_objective\u001b[0m\u001b[0;34m(\u001b[0m\u001b[0mall_results\u001b[0m\u001b[0;34m)\u001b[0m\u001b[0;34m\u001b[0m\u001b[0;34m\u001b[0m\u001b[0m\n\u001b[0m\u001b[1;32m     20\u001b[0m \u001b[0mplt\u001b[0m\u001b[0;34m.\u001b[0m\u001b[0mshow\u001b[0m\u001b[0;34m(\u001b[0m\u001b[0;34m)\u001b[0m\u001b[0;34m\u001b[0m\u001b[0;34m\u001b[0m\u001b[0m\n",
            "\u001b[0;32m/usr/local/lib/python3.10/dist-packages/skopt/plots.py\u001b[0m in \u001b[0;36mplot_objective\u001b[0;34m(result, levels, n_points, n_samples, size, wspace, hspace, zscale, dimensions, sample_source, minimum, n_minimum_search, plot_dims, show_points, cmap, ax)\u001b[0m\n\u001b[1;32m    797\u001b[0m     \u001b[0;31m# calculating dependence. (Unless partial\u001b[0m\u001b[0;34m\u001b[0m\u001b[0;34m\u001b[0m\u001b[0m\n\u001b[1;32m    798\u001b[0m     \u001b[0;31m# dependence is to be used instead).\u001b[0m\u001b[0;34m\u001b[0m\u001b[0;34m\u001b[0m\u001b[0m\n\u001b[0;32m--> 799\u001b[0;31m     \u001b[0mspace\u001b[0m \u001b[0;34m=\u001b[0m \u001b[0mresult\u001b[0m\u001b[0;34m.\u001b[0m\u001b[0mspace\u001b[0m\u001b[0;34m\u001b[0m\u001b[0;34m\u001b[0m\u001b[0m\n\u001b[0m\u001b[1;32m    800\u001b[0m     \u001b[0;31m# Get the relevant search-space dimensions.\u001b[0m\u001b[0;34m\u001b[0m\u001b[0;34m\u001b[0m\u001b[0m\n\u001b[1;32m    801\u001b[0m     \u001b[0;32mif\u001b[0m \u001b[0mplot_dims\u001b[0m \u001b[0;32mis\u001b[0m \u001b[0;32mNone\u001b[0m\u001b[0;34m:\u001b[0m\u001b[0;34m\u001b[0m\u001b[0;34m\u001b[0m\u001b[0m\n",
            "\u001b[0;31mAttributeError\u001b[0m: 'list' object has no attribute 'space'"
          ]
        }
      ]
    },
    {
      "cell_type": "markdown",
      "metadata": {
        "id": "FIM9QztttBwq"
      },
      "source": [
        "https://scikit-optimize.github.io/stable/auto_examples/bayesian-optimization.html"
      ]
    },
    {
      "cell_type": "code",
      "source": [
        "for res in all_results:\n",
        "  skplt.plot_objective(res)\n",
        "  plt.show()\n"
      ],
      "metadata": {
        "colab": {
          "base_uri": "https://localhost:8080/",
          "height": 1000
        },
        "id": "Yjj2vmXVQ7Mj",
        "outputId": "548fbd33-ac22-45db-d1e8-34fde2257579"
      },
      "execution_count": 32,
      "outputs": [
        {
          "output_type": "display_data",
          "data": {
            "text/plain": [
              "<Figure size 200x200 with 2 Axes>"
            ],
            "image/png": "[encoded data removed]"
          },
          "metadata": {}
        },
        {
          "output_type": "display_data",
          "data": {
            "text/plain": [
              "<Figure size 200x200 with 2 Axes>"
            ],
            "image/png": "[encoded data removed]"
          },
          "metadata": {}
        },
        {
          "output_type": "display_data",
          "data": {
            "text/plain": [
              "<Figure size 200x200 with 2 Axes>"
            ],
            "image/png": "[encoded data removed]"
          },
          "metadata": {}
        },
        {
          "output_type": "display_data",
          "data": {
            "text/plain": [
              "<Figure size 200x200 with 2 Axes>"
            ],
            "image/png": "[encoded data removed]"
          },
          "metadata": {}
        },
        {
          "output_type": "display_data",
          "data": {
            "text/plain": [
              "<Figure size 200x200 with 2 Axes>"
            ],
            "image/png": "[encoded data removed]"
          },
          "metadata": {}
        }
      ]
    },
    {
      "cell_type": "code",
      "execution_count": 35,
      "metadata": {
        "id": "X8_t9kuwtBwt",
        "outputId": "350baccc-7fd1-4e86-cc3f-0ef48e4533a8",
        "colab": {
          "base_uri": "https://localhost:8080/",
          "height": 644
        },
        "collapsed": true
      },
      "outputs": [
        {
          "output_type": "stream",
          "name": "stdout",
          "text": [
            "Plotting power spectral density (dB=True).\n"
          ]
        },
        {
          "output_type": "stream",
          "name": "stderr",
          "text": [
            "<ipython-input-35-04e6322743fc>:2: FutureWarning: The value of `amplitude='auto'` will be removed in MNE 1.8.0, and the new default will be `amplitude=False`.\n",
            "  fig = emp_spec.plot(picks=\"all\", average=True, color=\"Blue\");\n"
          ]
        },
        {
          "output_type": "display_data",
          "data": {
            "text/plain": [
              "<MNELineFigure size 1000x350 with 1 Axes>"
            ],
            "image/png": "[encoded data removed]"
          },
          "metadata": {}
        },
        {
          "output_type": "error",
          "ename": "NameError",
          "evalue": "name 'gen_spec' is not defined",
          "traceback": [
            "\u001b[0;31m---------------------------------------------------------------------------\u001b[0m",
            "\u001b[0;31mNameError\u001b[0m                                 Traceback (most recent call last)",
            "\u001b[0;32m<ipython-input-35-04e6322743fc>\u001b[0m in \u001b[0;36m<cell line: 6>\u001b[0;34m()\u001b[0m\n\u001b[1;32m      4\u001b[0m \u001b[0mplt\u001b[0m\u001b[0;34m.\u001b[0m\u001b[0mclose\u001b[0m\u001b[0;34m(\u001b[0m\u001b[0mfig\u001b[0m\u001b[0;34m)\u001b[0m\u001b[0;34m\u001b[0m\u001b[0;34m\u001b[0m\u001b[0m\n\u001b[1;32m      5\u001b[0m \u001b[0;34m\u001b[0m\u001b[0m\n\u001b[0;32m----> 6\u001b[0;31m \u001b[0mfig\u001b[0m \u001b[0;34m=\u001b[0m \u001b[0mgen_spec\u001b[0m\u001b[0;34m.\u001b[0m\u001b[0mplot\u001b[0m\u001b[0;34m(\u001b[0m\u001b[0mpicks\u001b[0m\u001b[0;34m=\u001b[0m\u001b[0;34m\"all\"\u001b[0m\u001b[0;34m,\u001b[0m \u001b[0maverage\u001b[0m\u001b[0;34m=\u001b[0m\u001b[0;32mTrue\u001b[0m\u001b[0;34m,\u001b[0m \u001b[0mcolor\u001b[0m\u001b[0;34m=\u001b[0m\u001b[0;34m\"Red\"\u001b[0m\u001b[0;34m)\u001b[0m\u001b[0;34m;\u001b[0m\u001b[0;34m\u001b[0m\u001b[0;34m\u001b[0m\u001b[0m\n\u001b[0m\u001b[1;32m      7\u001b[0m \u001b[0mplt\u001b[0m\u001b[0;34m.\u001b[0m\u001b[0mshow\u001b[0m\u001b[0;34m(\u001b[0m\u001b[0mfig\u001b[0m\u001b[0;34m)\u001b[0m\u001b[0;34m\u001b[0m\u001b[0;34m\u001b[0m\u001b[0m\n\u001b[1;32m      8\u001b[0m \u001b[0mplt\u001b[0m\u001b[0;34m.\u001b[0m\u001b[0mclose\u001b[0m\u001b[0;34m(\u001b[0m\u001b[0mfig\u001b[0m\u001b[0;34m)\u001b[0m\u001b[0;34m\u001b[0m\u001b[0;34m\u001b[0m\u001b[0m\n",
            "\u001b[0;31mNameError\u001b[0m: name 'gen_spec' is not defined"
          ]
        }
      ],
      "source": [
        "# To Draw Figs\n",
        "fig = emp_spec.plot(picks=\"all\", average=True, color=\"Blue\");\n",
        "plt.show(fig)\n",
        "plt.close(fig)\n",
        "\n",
        "fig = gen_spec.plot(picks=\"all\", average=True, color=\"Red\");\n",
        "plt.show(fig)\n",
        "plt.close(fig)"
      ]
    }
  ],
  "metadata": {
    "kernelspec": {
      "display_name": "Python 3",
      "name": "python3"
    },
    "language_info": {
      "codemirror_mode": {
        "name": "ipython",
        "version": 3
      },
      "file_extension": ".py",
      "mimetype": "text/x-python",
      "name": "python",
      "nbconvert_exporter": "python",
      "pygments_lexer": "ipython3",
      "version": "3.9.18"
    },
    "colab": {
      "provenance": [],
      "gpuType": "V28",
      "include_colab_link": true
    },
    "accelerator": "TPU"
  },
  "nbformat": 4,
  "nbformat_minor": 0
}