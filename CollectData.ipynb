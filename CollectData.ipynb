{
 "cells": [
  {
   "cell_type": "code",
   "execution_count": 3,
   "metadata": {},
   "outputs": [
    {
     "name": "stdout",
     "output_type": "stream",
     "text": [
      "Downloaded ds000030/ds000030_R1.0.5/uncompressed/derivatives/fmriprep/sub-10159/func/sub-10159_task-rest_bold_space-MNI152NLin2009cAsym_preproc.nii.gz to C:\\Users\\stapl\\Documents\\CDocuments\\FinalYearProject\\Model\\nifti_files\\sub-10159_task-rest_bold_space-MNI152NLin2009cAsym_preproc.nii.gz\n",
      "Downloaded ds000030/ds000030_R1.0.5/uncompressed/derivatives/fmriprep/sub-10159/func/sub-10159_task-rest_bold_confounds.tsv to C:\\Users\\stapl\\Documents\\CDocuments\\FinalYearProject\\Model\\confounds\\sub-10159_task-rest_bold_confounds.tsv\n"
     ]
    }
   ],
   "source": [
    "import boto3\n",
    "import os\n",
    "import re\n",
    "from ipython_secrets import * \n"
   ]
  },
  {
   "cell_type": "markdown",
   "metadata": {},
   "source": [
    "To get confounds and resting BOLD "
   ]
  },
  {
   "cell_type": "code",
   "execution_count": null,
   "metadata": {},
   "outputs": [],
   "source": [
    "\n",
    "# The get_secret function from ipython_secrets only requests the keys once before storing them in the Jupyter notebook's environment\n",
    "aws_api_key = get_secret(\"aws_api_key\")\n",
    "aws_api_secret = get_secret(\"aws_api_secret\")\n",
    "\n",
    "# Create an S3 client using the provided access keys\n",
    "client = boto3.client('s3', \n",
    "                      aws_access_key_id=aws_api_key, \n",
    "                      aws_secret_access_key=aws_api_secret)\n",
    "\n",
    "bucket_name = 'openneuro'\n",
    "key = 'ds000030/ds000030_R1.0.5/uncompressed/derivatives/'\n",
    "\n",
    "response = client.list_objects_v2(Bucket=bucket_name, Prefix=key)\n",
    "\n",
    "local_dir = r'C:\\Users\\stapl\\Documents\\CDocuments\\FinalYearProject\\Model'\n",
    "\n",
    "subjects = [\n",
    "    'sub-10159'\n",
    "    # 'sub-70004',... etc \n",
    "    # Relevant files do not exist for - sub-10948, sub-11082, sub-70002 \n",
    "]\n",
    "\n",
    "pattern_nifti = r\"sub-\\d{5}_task-rest_bold_space-MNI152NLin2009cAsym_preproc\\.nii\\.gz\"\n",
    "pattern_confound = r\"sub-\\d{5}_task-rest_bold_confounds\\.tsv\"\n",
    "\n",
    "nifti_dir = os.path.join(local_dir, 'nifti_files')\n",
    "confound_dir = os.path.join(local_dir, 'confounds')\n",
    "\n",
    "# Iterate over subjects and download files\n",
    "for subject in subjects:\n",
    "    # Construct the keys for the files for the current subject\n",
    "    nifti_key = f\"ds000030/ds000030_R1.0.5/uncompressed/derivatives/fmriprep/{subject}/func/{subject}_task-rest_bold_space-MNI152NLin2009cAsym_preproc.nii.gz\"\n",
    "    confound_key = f\"ds000030/ds000030_R1.0.5/uncompressed/derivatives/fmriprep/{subject}/func/{subject}_task-rest_bold_confounds.tsv\"\n",
    "    \n",
    "    # Define the local file paths to save the downloaded files\n",
    "    local_nifti_file = os.path.join(nifti_dir, f\"{subject}_task-rest_bold_space-MNI152NLin2009cAsym_preproc.nii.gz\")\n",
    "    local_confound_file = os.path.join(confound_dir, f\"{subject}_task-rest_bold_confounds.tsv\")\n",
    "    \n",
    "    # Download the NIFTI file\n",
    "    client.download_file(bucket_name, nifti_key, local_nifti_file)\n",
    "    print(f\"Downloaded {nifti_key} to {local_nifti_file}\")\n",
    "    \n",
    "    # Download the confound file\n",
    "    client.download_file(bucket_name, confound_key, local_confound_file)\n",
    "    print(f\"Downloaded {confound_key} to {local_confound_file}\")"
   ]
  },
  {
   "cell_type": "markdown",
   "metadata": {},
   "source": [
    "To get sMRI "
   ]
  },
  {
   "cell_type": "code",
   "execution_count": 19,
   "metadata": {},
   "outputs": [
    {
     "name": "stdout",
     "output_type": "stream",
     "text": [
      "Downloaded ds000030/ds000030_R1.0.5/uncompressed/derivatives/fmriprep/sub-10159/anat/sub-10159_T1w_space-MNI152NLin2009cAsym_preproc.nii.gz to C:\\Users\\stapl\\Documents\\CDocuments\\FinalYearProject\\Model\\sMRI\\sub-10159_T1w.nii.gz\n"
     ]
    }
   ],
   "source": [
    "# The get_secret function from ipython_secrets only requests the keys once before storing them in the Jupyter notebook's environment\n",
    "aws_api_key = get_secret(\"aws_api_key\")\n",
    "aws_api_secret = get_secret(\"aws_api_secret\")\n",
    "\n",
    "# Create an S3 client using the provided access keys\n",
    "client = boto3.client('s3', \n",
    "                      aws_access_key_id=aws_api_key, \n",
    "                      aws_secret_access_key=aws_api_secret)\n",
    "\n",
    "bucket_name = 'openneuro'\n",
    "key = 'ds000030/ds000030_R1.0.5/uncompressed/derivatives/fmriprep/'\n",
    "\n",
    "local_dir = r'C:\\Users\\stapl\\Documents\\CDocuments\\FinalYearProject\\Model'\n",
    "\n",
    "subjects = [\n",
    "    'sub-10159'\n",
    "    # 'sub-70004',... etc \n",
    "    # Relevant files do not exist for - sub-10948, sub-11082, sub-70002 \n",
    "]\n",
    "\n",
    "sMRI_dir = os.path.join(local_dir, 'sMRI')\n",
    "\n",
    "# Iterate over subjects and download files\n",
    "for subject in subjects:\n",
    "    # Construct the keys for the files for the current subject\n",
    "    \n",
    "    sMRI_key = f\"ds000030/ds000030_R1.0.5/uncompressed/derivatives/fmriprep/{subject}/anat/{subject}_T1w_space-MNI152NLin2009cAsym_preproc.nii.gz\"\n",
    "\n",
    "    # Define the local file paths to save the downloaded files\n",
    "    local_sMRI_file = os.path.join(sMRI_dir, f\"{subject}_T1w.nii.gz\")\n",
    "    \n",
    "    # Download the NIFTI file\n",
    "    client.download_file(bucket_name, sMRI_key, local_sMRI_file)\n",
    "    print(f\"Downloaded {sMRI_key} to {local_sMRI_file}\")\n"
   ]
  }
 ],
 "metadata": {
  "kernelspec": {
   "display_name": "nilearnenv",
   "language": "python",
   "name": "python3"
  },
  "language_info": {
   "codemirror_mode": {
    "name": "ipython",
    "version": 3
   },
   "file_extension": ".py",
   "mimetype": "text/x-python",
   "name": "python",
   "nbconvert_exporter": "python",
   "pygments_lexer": "ipython3",
   "version": "3.9.18"
  }
 },
 "nbformat": 4,
 "nbformat_minor": 2
}
