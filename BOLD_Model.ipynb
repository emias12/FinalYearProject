{
 "cells": [
  {
   "cell_type": "code",
   "execution_count": 1,
   "metadata": {},
   "outputs": [],
   "source": [
    "import numpy as np\n",
    "\n",
    "# Balloon-Windkessel Hemodynamic Model #####################################################\n",
    "# Time Constants\n",
    "tau_s = 0.65 # Signal decay\n",
    "tau_f = 0.41 # blood inflow\n",
    "tau_v = 0.98 # blood volume\n",
    "tau_q = 0.98 # deoxyhemoglobin content\n",
    "\n",
    "k = 0.32 # stiffness constant, represents resistance in veins to blood flow\n",
    "E_0 = 0.4 # resting oxygen extraction rate\n",
    "\n",
    "# Chosen Constants \n",
    "k1 = 2.77\n",
    "k2 = 0.2\n",
    "k3 = 0.5\n",
    "\n",
    "V_0 = 0.03 # fraction of deoxygenated blood in resting state \n",
    "\n",
    "# Calculate firing rates, V_T is EEG like response, r_0 is the sigmoid slope\n",
    "#firing_rates = sigmoid(V_T, r_0) # sim_length x num_nodes\n",
    "\n",
    "# Above is from the Neuromod, but had already got firing rates before converted to voltage above, so \n",
    "# probably makes more sense to sum x1 x2 x3 (as all need blood)\n",
    "%store -r x1\n",
    "%store -r x2\n",
    "%store -r x3\n",
    "raw_firing_rates = x1 + x2 + x3\n",
    "\n",
    "# Calculate mean and standard deviation across all nodes\n",
    "mean_firing_rate = np.mean(raw_firing_rates)\n",
    "std_firing_rate = np.std(raw_firing_rates)\n",
    "\n",
    "# Standardize firing rates\n",
    "firing_rates = (raw_firing_rates - mean_firing_rate) / std_firing_rate\n",
    "\n",
    "scaling = 1\n",
    "# instead of multiplying by arbitrary factor, can standardise - divide by standard deviation, so sd becomes 1\n",
    "\n",
    "# ODEs for Balloon Windkessel Model\n",
    "def balloon_windkessel_ode(state, t):\n",
    "    # s: vasodilatory response\n",
    "    # f: blood inflow\n",
    "    # v: blood volume\n",
    "    # q: deoxyhemoglobin content\n",
    "    s, f, v, q = state\n",
    "    \n",
    "    # NOTE - multiplying firing rate by a large constant\n",
    "    ds_dt  = scaling * firing_rates[t] - s / tau_s - (f - 1) / tau_f\n",
    "    df_dt = s\n",
    "    dv_dt = (f - v**(1/k)) / tau_v\n",
    "    dq_dt = ((f * (1 - (1 - E_0)**(1 / f))) / E_0 - (q * v**(1/k)) / v) / tau_q\n",
    "    \n",
    "    return [ds_dt, df_dt, dv_dt, dq_dt]"
   ]
  }
 ],
 "metadata": {
  "kernelspec": {
   "display_name": "nilearnenv",
   "language": "python",
   "name": "python3"
  },
  "language_info": {
   "codemirror_mode": {
    "name": "ipython",
    "version": 3
   },
   "file_extension": ".py",
   "mimetype": "text/x-python",
   "name": "python",
   "nbconvert_exporter": "python",
   "pygments_lexer": "ipython3",
   "version": "3.9.18"
  }
 },
 "nbformat": 4,
 "nbformat_minor": 2
}
